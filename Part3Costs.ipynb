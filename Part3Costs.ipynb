{
 "cells": [
  {
   "cell_type": "markdown",
   "metadata": {},
   "source": [
    "## Costs\n",
    "\n"
   ]
  },
  {
   "cell_type": "markdown",
   "metadata": {},
   "source": [
    "### Preface\n",
    "\n"
   ]
  },
  {
   "cell_type": "markdown",
   "metadata": {},
   "source": [
    "There are a few modules you may need to install (but avoid this if you can; you may need to restart your kernel afterwards):\n",
    "\n"
   ]
  },
  {
   "cell_type": "code",
   "execution_count": 3,
   "metadata": {},
   "outputs": [
    {
     "name": "stdout",
     "output_type": "stream",
     "text": [
      "Collecting CFEDemands>=0.4.1\n",
      "  Using cached CFEDemands-0.5.4-py2.py3-none-any.whl (47 kB)\n",
      "Collecting gspread>=5.0.1\n",
      "  Using cached gspread-5.8.0-py3-none-any.whl (40 kB)\n",
      "Collecting gspread_pandas>=3.2.0\n",
      "  Using cached gspread_pandas-3.2.2-py2.py3-none-any.whl (26 kB)\n",
      "Collecting oauth2client>=4.1.3\n",
      "  Using cached oauth2client-4.1.3-py2.py3-none-any.whl (98 kB)\n",
      "Collecting eep153_tools>=0.11\n",
      "  Using cached eep153_tools-0.11-py2.py3-none-any.whl (4.4 kB)\n",
      "Collecting python-gnupg\n",
      "  Using cached python_gnupg-0.5.0-py2.py3-none-any.whl (18 kB)\n",
      "Collecting ConsumerDemands\n",
      "  Using cached ConsumerDemands-0.4.1.dev0-py2.py3-none-any.whl (12 kB)\n",
      "Requirement already satisfied: numpy>=1.21.5 in /opt/conda/lib/python3.9/site-packages (from CFEDemands>=0.4.1->-r requirements.txt (line 5)) (1.21.6)\n",
      "Requirement already satisfied: scipy>=1.7.3 in /opt/conda/lib/python3.9/site-packages (from CFEDemands>=0.4.1->-r requirements.txt (line 5)) (1.10.1)\n",
      "Collecting xarray>=0.20.1\n",
      "  Using cached xarray-2023.4.2-py3-none-any.whl (979 kB)\n",
      "Requirement already satisfied: matplotlib>=3.5.1 in /opt/conda/lib/python3.9/site-packages (from CFEDemands>=0.4.1->-r requirements.txt (line 5)) (3.5.3)\n",
      "Collecting pandas>=1.4.2\n",
      "  Using cached pandas-2.0.1-cp39-cp39-manylinux_2_17_x86_64.manylinux2014_x86_64.whl (12.4 MB)\n",
      "Requirement already satisfied: statsmodels>=0.13.2 in /opt/conda/lib/python3.9/site-packages (from CFEDemands>=0.4.1->-r requirements.txt (line 5)) (0.13.5)\n",
      "Collecting joblib>=1.1.0\n",
      "  Using cached joblib-1.2.0-py3-none-any.whl (297 kB)\n",
      "Collecting ray>=2.0.0\n",
      "  Using cached ray-2.4.0-cp39-cp39-manylinux2014_x86_64.whl (58.6 MB)\n",
      "Collecting dvc>=2.18.1\n",
      "  Using cached dvc-2.55.0-py3-none-any.whl (419 kB)\n",
      "Requirement already satisfied: pytest>=7.1.1 in /opt/conda/lib/python3.9/site-packages (from CFEDemands>=0.4.1->-r requirements.txt (line 5)) (7.2.2)\n",
      "Requirement already satisfied: google-auth-oauthlib>=0.4.1 in /opt/conda/lib/python3.9/site-packages (from gspread>=5.0.1->-r requirements.txt (line 7)) (0.4.5)\n",
      "Requirement already satisfied: google-auth>=1.12.0 in /opt/conda/lib/python3.9/site-packages (from gspread>=5.0.1->-r requirements.txt (line 7)) (2.17.1)\n",
      "Requirement already satisfied: decorator in /opt/conda/lib/python3.9/site-packages (from gspread_pandas>=3.2.0->-r requirements.txt (line 8)) (5.0.9)\n",
      "Requirement already satisfied: pyasn1-modules>=0.0.5 in /opt/conda/lib/python3.9/site-packages (from oauth2client>=4.1.3->-r requirements.txt (line 11)) (0.2.7)\n",
      "Requirement already satisfied: rsa>=3.1.4 in /opt/conda/lib/python3.9/site-packages (from oauth2client>=4.1.3->-r requirements.txt (line 11)) (4.9)\n",
      "Requirement already satisfied: six>=1.6.1 in /opt/conda/lib/python3.9/site-packages (from oauth2client>=4.1.3->-r requirements.txt (line 11)) (1.16.0)\n",
      "Requirement already satisfied: pyasn1>=0.1.7 in /opt/conda/lib/python3.9/site-packages (from oauth2client>=4.1.3->-r requirements.txt (line 11)) (0.4.8)\n",
      "Requirement already satisfied: httplib2>=0.9.1 in /opt/conda/lib/python3.9/site-packages (from oauth2client>=4.1.3->-r requirements.txt (line 11)) (0.22.0)\n",
      "Collecting iterative-telemetry>=0.0.7\n",
      "  Using cached iterative_telemetry-0.0.8-py3-none-any.whl (10 kB)\n",
      "Collecting zc.lockfile>=1.2.1\n",
      "  Using cached zc.lockfile-3.0.post1-py3-none-any.whl (9.8 kB)\n",
      "Requirement already satisfied: ruamel.yaml>=0.17.11 in /opt/conda/lib/python3.9/site-packages (from dvc>=2.18.1->CFEDemands>=0.4.1->-r requirements.txt (line 5)) (0.17.21)\n",
      "Collecting dvc-render<0.4.0,>=0.3.1\n",
      "  Using cached dvc_render-0.3.1-py3-none-any.whl (18 kB)\n",
      "Requirement already satisfied: requests>=2.22 in /opt/conda/lib/python3.9/site-packages (from dvc>=2.18.1->CFEDemands>=0.4.1->-r requirements.txt (line 5)) (2.26.0)\n",
      "Collecting dvc-task<1,>=0.2.0\n",
      "  Using cached dvc_task-0.2.1-py3-none-any.whl (24 kB)\n",
      "Collecting rich>=12\n",
      "  Using cached rich-13.3.5-py3-none-any.whl (238 kB)\n",
      "Collecting distro>=1.3\n",
      "  Using cached distro-1.8.0-py3-none-any.whl (20 kB)\n",
      "Requirement already satisfied: packaging>=19 in /opt/conda/lib/python3.9/site-packages (from dvc>=2.18.1->CFEDemands>=0.4.1->-r requirements.txt (line 5)) (21.3)\n",
      "Collecting grandalf<1,>=0.7\n",
      "  Using cached grandalf-0.8-py3-none-any.whl (41 kB)\n",
      "Collecting funcy>=1.14\n",
      "  Using cached funcy-2.0-py2.py3-none-any.whl (30 kB)\n",
      "Collecting hydra-core>=1.1\n",
      "  Using cached hydra_core-1.3.2-py3-none-any.whl (154 kB)\n",
      "Collecting pathspec>=0.10.3\n",
      "  Using cached pathspec-0.11.1-py3-none-any.whl (29 kB)\n",
      "Requirement already satisfied: tabulate>=0.8.7 in /opt/conda/lib/python3.9/site-packages (from dvc>=2.18.1->CFEDemands>=0.4.1->-r requirements.txt (line 5)) (0.9.0)\n",
      "Collecting dvc-studio-client<1,>=0.6.1\n",
      "  Using cached dvc_studio_client-0.8.0-py3-none-any.whl (10 kB)\n",
      "Collecting dvc-data<0.48,>=0.47.1\n",
      "  Using cached dvc_data-0.47.2-py3-none-any.whl (59 kB)\n",
      "Collecting configobj>=5.0.6\n",
      "  Using cached configobj-5.0.8-py2.py3-none-any.whl (36 kB)\n",
      "Collecting dvc-http>=2.29.0\n",
      "  Using cached dvc_http-2.30.2-py3-none-any.whl (12 kB)\n",
      "Collecting scmrepo<2,>=1.0.0\n",
      "  Using cached scmrepo-1.0.2-py3-none-any.whl (54 kB)\n",
      "Requirement already satisfied: psutil>=5.8 in /opt/conda/lib/python3.9/site-packages (from dvc>=2.18.1->CFEDemands>=0.4.1->-r requirements.txt (line 5)) (5.9.4)\n",
      "Requirement already satisfied: platformdirs<4,>=3.1.1 in /opt/conda/lib/python3.9/site-packages (from dvc>=2.18.1->CFEDemands>=0.4.1->-r requirements.txt (line 5)) (3.2.0)\n",
      "Requirement already satisfied: colorama>=0.3.9 in /opt/conda/lib/python3.9/site-packages (from dvc>=2.18.1->CFEDemands>=0.4.1->-r requirements.txt (line 5)) (0.4.4)\n",
      "Collecting flufl.lock>=5\n",
      "  Using cached flufl.lock-7.1.1-py3-none-any.whl (11 kB)\n",
      "Collecting pygtrie>=2.3.2\n",
      "  Using cached pygtrie-2.5.0-py3-none-any.whl (25 kB)\n",
      "Requirement already satisfied: networkx>=2.5 in /opt/conda/lib/python3.9/site-packages (from dvc>=2.18.1->CFEDemands>=0.4.1->-r requirements.txt (line 5)) (2.6.3)\n",
      "Collecting tomlkit>=0.11.1\n",
      "  Using cached tomlkit-0.11.8-py3-none-any.whl (35 kB)\n",
      "Requirement already satisfied: pyparsing>=2.4.7 in /opt/conda/lib/python3.9/site-packages (from dvc>=2.18.1->CFEDemands>=0.4.1->-r requirements.txt (line 5)) (3.0.9)\n",
      "Collecting shtab<2,>=1.3.4\n",
      "  Using cached shtab-1.6.1-py3-none-any.whl (13 kB)\n",
      "Collecting dpath<3,>=2.1.0\n",
      "  Using cached dpath-2.1.5-py3-none-any.whl (17 kB)\n",
      "Collecting pydot>=1.2.4\n",
      "  Using cached pydot-1.4.2-py2.py3-none-any.whl (21 kB)\n",
      "Collecting flatten-dict<1,>=0.4.1\n",
      "  Using cached flatten_dict-0.4.2-py2.py3-none-any.whl (9.7 kB)\n",
      "Collecting shortuuid>=0.5\n",
      "  Using cached shortuuid-1.0.11-py3-none-any.whl (10 kB)\n",
      "Collecting tqdm<5,>=4.63.1\n",
      "  Using cached tqdm-4.65.0-py3-none-any.whl (77 kB)\n",
      "Collecting voluptuous>=0.11.7\n",
      "  Using cached voluptuous-0.13.1-py3-none-any.whl (29 kB)\n",
      "Requirement already satisfied: cachetools<6.0,>=2.0.0 in /opt/conda/lib/python3.9/site-packages (from google-auth>=1.12.0->gspread>=5.0.1->-r requirements.txt (line 7)) (5.3.0)\n",
      "Requirement already satisfied: requests-oauthlib>=0.7.0 in /opt/conda/lib/python3.9/site-packages (from google-auth-oauthlib>=0.4.1->gspread>=5.0.1->-r requirements.txt (line 7)) (1.3.1)\n",
      "Requirement already satisfied: fonttools>=4.22.0 in /opt/conda/lib/python3.9/site-packages (from matplotlib>=3.5.1->CFEDemands>=0.4.1->-r requirements.txt (line 5)) (4.39.3)\n",
      "Requirement already satisfied: cycler>=0.10 in /opt/conda/lib/python3.9/site-packages (from matplotlib>=3.5.1->CFEDemands>=0.4.1->-r requirements.txt (line 5)) (0.11.0)\n",
      "Requirement already satisfied: pillow>=6.2.0 in /opt/conda/lib/python3.9/site-packages (from matplotlib>=3.5.1->CFEDemands>=0.4.1->-r requirements.txt (line 5)) (9.4.0)\n",
      "Requirement already satisfied: python-dateutil>=2.7 in /opt/conda/lib/python3.9/site-packages (from matplotlib>=3.5.1->CFEDemands>=0.4.1->-r requirements.txt (line 5)) (2.8.0)\n",
      "Requirement already satisfied: kiwisolver>=1.0.1 in /opt/conda/lib/python3.9/site-packages (from matplotlib>=3.5.1->CFEDemands>=0.4.1->-r requirements.txt (line 5)) (1.4.4)\n",
      "Collecting tzdata>=2022.1\n",
      "  Using cached tzdata-2023.3-py2.py3-none-any.whl (341 kB)\n",
      "Collecting python-dateutil>=2.7\n",
      "  Using cached python_dateutil-2.8.2-py2.py3-none-any.whl (247 kB)\n",
      "Requirement already satisfied: pytz>=2020.1 in /opt/conda/lib/python3.9/site-packages (from pandas>=1.4.2->CFEDemands>=0.4.1->-r requirements.txt (line 5)) (2021.1)\n",
      "Requirement already satisfied: iniconfig in /opt/conda/lib/python3.9/site-packages (from pytest>=7.1.1->CFEDemands>=0.4.1->-r requirements.txt (line 5)) (2.0.0)\n",
      "Requirement already satisfied: pluggy<2.0,>=0.12 in /opt/conda/lib/python3.9/site-packages (from pytest>=7.1.1->CFEDemands>=0.4.1->-r requirements.txt (line 5)) (1.0.0)\n",
      "Requirement already satisfied: attrs>=19.2.0 in /opt/conda/lib/python3.9/site-packages (from pytest>=7.1.1->CFEDemands>=0.4.1->-r requirements.txt (line 5)) (19.3.0)\n",
      "Requirement already satisfied: tomli>=1.0.0 in /opt/conda/lib/python3.9/site-packages (from pytest>=7.1.1->CFEDemands>=0.4.1->-r requirements.txt (line 5)) (2.0.1)\n",
      "Requirement already satisfied: exceptiongroup>=1.0.0rc8 in /opt/conda/lib/python3.9/site-packages (from pytest>=7.1.1->CFEDemands>=0.4.1->-r requirements.txt (line 5)) (1.1.1)\n"
     ]
    },
    {
     "name": "stdout",
     "output_type": "stream",
     "text": [
      "Requirement already satisfied: jsonschema in /opt/conda/lib/python3.9/site-packages (from ray>=2.0.0->CFEDemands>=0.4.1->-r requirements.txt (line 5)) (4.17.3)\n",
      "Requirement already satisfied: frozenlist in /opt/conda/lib/python3.9/site-packages (from ray>=2.0.0->CFEDemands>=0.4.1->-r requirements.txt (line 5)) (1.3.3)\n",
      "Requirement already satisfied: grpcio<=1.51.3,>=1.32.0 in /opt/conda/lib/python3.9/site-packages (from ray>=2.0.0->CFEDemands>=0.4.1->-r requirements.txt (line 5)) (1.43.0)\n",
      "Requirement already satisfied: click>=7.0 in /opt/conda/lib/python3.9/site-packages (from ray>=2.0.0->CFEDemands>=0.4.1->-r requirements.txt (line 5)) (8.0.4)\n",
      "Requirement already satisfied: protobuf!=3.19.5,>=3.15.3 in /opt/conda/lib/python3.9/site-packages (from ray>=2.0.0->CFEDemands>=0.4.1->-r requirements.txt (line 5)) (3.19.6)\n",
      "Requirement already satisfied: msgpack<2.0.0,>=1.0.0 in /opt/conda/lib/python3.9/site-packages (from ray>=2.0.0->CFEDemands>=0.4.1->-r requirements.txt (line 5)) (1.0.5)\n",
      "Requirement already satisfied: virtualenv<20.21.1,>=20.0.24 in /opt/conda/lib/python3.9/site-packages (from ray>=2.0.0->CFEDemands>=0.4.1->-r requirements.txt (line 5)) (20.21.0)\n",
      "Requirement already satisfied: aiosignal in /opt/conda/lib/python3.9/site-packages (from ray>=2.0.0->CFEDemands>=0.4.1->-r requirements.txt (line 5)) (1.3.1)\n",
      "Requirement already satisfied: pyyaml in /opt/conda/lib/python3.9/site-packages (from ray>=2.0.0->CFEDemands>=0.4.1->-r requirements.txt (line 5)) (6.0)\n",
      "Requirement already satisfied: filelock in /opt/conda/lib/python3.9/site-packages (from ray>=2.0.0->CFEDemands>=0.4.1->-r requirements.txt (line 5)) (3.10.7)\n",
      "Requirement already satisfied: patsy>=0.5.2 in /opt/conda/lib/python3.9/site-packages (from statsmodels>=0.13.2->CFEDemands>=0.4.1->-r requirements.txt (line 5)) (0.5.3)\n",
      "Collecting dictdiffer>=0.8.1\n",
      "  Using cached dictdiffer-0.9.0-py2.py3-none-any.whl (16 kB)\n",
      "Collecting nanotime>=0.5.2\n",
      "  Using cached nanotime-0.5.2-py3-none-any.whl\n",
      "Collecting dvc-objects<1,>=0.21.1\n",
      "  Using cached dvc_objects-0.21.2-py3-none-any.whl (37 kB)\n",
      "Collecting attrs>=19.2.0\n",
      "  Using cached attrs-23.1.0-py3-none-any.whl (61 kB)\n",
      "Collecting sqltrie<1,>=0.3.1\n",
      "  Using cached sqltrie-0.3.1-py3-none-any.whl (16 kB)\n",
      "Collecting diskcache>=5.2.1\n",
      "  Using cached diskcache-5.6.1-py3-none-any.whl (45 kB)\n",
      "Collecting aiohttp-retry>=2.5.0\n",
      "  Using cached aiohttp_retry-2.8.3-py3-none-any.whl (9.8 kB)\n",
      "Requirement already satisfied: fsspec[http] in /opt/conda/lib/python3.9/site-packages (from dvc-http>=2.29.0->dvc>=2.18.1->CFEDemands>=0.4.1->-r requirements.txt (line 5)) (2023.3.0)\n",
      "Collecting dulwich\n",
      "  Using cached dulwich-0.21.3-cp39-cp39-manylinux_2_17_x86_64.manylinux2014_x86_64.whl (505 kB)\n",
      "Collecting celery<6,>=5.2.0\n",
      "  Using cached celery-5.2.7-py3-none-any.whl (405 kB)\n",
      "Collecting kombu<6,>=5.2.0\n",
      "  Using cached kombu-5.2.4-py3-none-any.whl (189 kB)\n",
      "Collecting atpublic>=2.3\n",
      "  Using cached atpublic-3.1.1-py3-none-any.whl (4.8 kB)\n",
      "Collecting antlr4-python3-runtime==4.9.*\n",
      "  Using cached antlr4_python3_runtime-4.9.3-py3-none-any.whl\n",
      "Collecting omegaconf<2.4,>=2.2\n",
      "  Using cached omegaconf-2.3.0-py3-none-any.whl (79 kB)\n",
      "Requirement already satisfied: appdirs in /opt/conda/lib/python3.9/site-packages (from iterative-telemetry>=0.0.7->dvc>=2.18.1->CFEDemands>=0.4.1->-r requirements.txt (line 5)) (1.4.4)\n",
      "Requirement already satisfied: idna<4,>=2.5 in /opt/conda/lib/python3.9/site-packages (from requests>=2.22->dvc>=2.18.1->CFEDemands>=0.4.1->-r requirements.txt (line 5)) (3.1)\n",
      "Requirement already satisfied: charset-normalizer~=2.0.0 in /opt/conda/lib/python3.9/site-packages (from requests>=2.22->dvc>=2.18.1->CFEDemands>=0.4.1->-r requirements.txt (line 5)) (2.0.0)\n",
      "Requirement already satisfied: urllib3<1.27,>=1.21.1 in /opt/conda/lib/python3.9/site-packages (from requests>=2.22->dvc>=2.18.1->CFEDemands>=0.4.1->-r requirements.txt (line 5)) (1.26.7)\n",
      "Requirement already satisfied: certifi>=2017.4.17 in /opt/conda/lib/python3.9/site-packages (from requests>=2.22->dvc>=2.18.1->CFEDemands>=0.4.1->-r requirements.txt (line 5)) (2021.10.8)\n",
      "Requirement already satisfied: oauthlib>=3.0.0 in /opt/conda/lib/python3.9/site-packages (from requests-oauthlib>=0.7.0->google-auth-oauthlib>=0.4.1->gspread>=5.0.1->-r requirements.txt (line 7)) (3.2.2)\n",
      "Requirement already satisfied: pygments<3.0.0,>=2.13.0 in /opt/conda/lib/python3.9/site-packages (from rich>=12->dvc>=2.18.1->CFEDemands>=0.4.1->-r requirements.txt (line 5)) (2.14.0)\n",
      "Requirement already satisfied: markdown-it-py<3.0.0,>=2.2.0 in /opt/conda/lib/python3.9/site-packages (from rich>=12->dvc>=2.18.1->CFEDemands>=0.4.1->-r requirements.txt (line 5)) (2.2.0)\n",
      "Requirement already satisfied: ruamel.yaml.clib>=0.2.6 in /opt/conda/lib/python3.9/site-packages (from ruamel.yaml>=0.17.11->dvc>=2.18.1->CFEDemands>=0.4.1->-r requirements.txt (line 5)) (0.2.7)\n",
      "Collecting asyncssh<3,>=2.13.1\n",
      "  Using cached asyncssh-2.13.1-py3-none-any.whl (348 kB)\n",
      "Collecting gitpython>3\n",
      "  Using cached GitPython-3.1.31-py3-none-any.whl (184 kB)\n",
      "Collecting pygit2>=1.10.0\n",
      "  Using cached pygit2-1.12.0-cp39-cp39-manylinux_2_17_x86_64.manylinux2014_x86_64.whl (4.9 MB)\n",
      "Requirement already satisfied: distlib<1,>=0.3.6 in /opt/conda/lib/python3.9/site-packages (from virtualenv<20.21.1,>=20.0.24->ray>=2.0.0->CFEDemands>=0.4.1->-r requirements.txt (line 5)) (0.3.6)\n",
      "Requirement already satisfied: setuptools in /opt/conda/lib/python3.9/site-packages (from zc.lockfile>=1.2.1->dvc>=2.18.1->CFEDemands>=0.4.1->-r requirements.txt (line 5)) (67.6.1)\n",
      "Requirement already satisfied: pyrsistent!=0.17.0,!=0.17.1,!=0.17.2,>=0.14.0 in /opt/conda/lib/python3.9/site-packages (from jsonschema->ray>=2.0.0->CFEDemands>=0.4.1->-r requirements.txt (line 5)) (0.19.3)\n",
      "Requirement already satisfied: aiohttp in /opt/conda/lib/python3.9/site-packages (from aiohttp-retry>=2.5.0->dvc-http>=2.29.0->dvc>=2.18.1->CFEDemands>=0.4.1->-r requirements.txt (line 5)) (3.8.4)\n",
      "Requirement already satisfied: cryptography>=3.1 in /opt/conda/lib/python3.9/site-packages (from asyncssh<3,>=2.13.1->scmrepo<2,>=1.0.0->dvc>=2.18.1->CFEDemands>=0.4.1->-r requirements.txt (line 5)) (3.4.8)\n",
      "Requirement already satisfied: typing-extensions>=3.6 in /opt/conda/lib/python3.9/site-packages (from asyncssh<3,>=2.13.1->scmrepo<2,>=1.0.0->dvc>=2.18.1->CFEDemands>=0.4.1->-r requirements.txt (line 5)) (4.5.0)\n",
      "Collecting billiard<4.0,>=3.6.4.0\n",
      "  Using cached billiard-3.6.4.0-py3-none-any.whl (89 kB)\n",
      "Collecting click-didyoumean>=0.0.3\n",
      "  Using cached click_didyoumean-0.3.0-py3-none-any.whl (2.7 kB)\n",
      "Collecting click-repl>=0.2.0\n",
      "  Using cached click_repl-0.2.0-py3-none-any.whl (5.2 kB)\n",
      "Collecting pytz>=2020.1\n",
      "  Using cached pytz-2023.3-py2.py3-none-any.whl (502 kB)\n",
      "Requirement already satisfied: click-plugins>=1.1.1 in /opt/conda/lib/python3.9/site-packages (from celery<6,>=5.2.0->dvc-task<1,>=0.2.0->dvc>=2.18.1->CFEDemands>=0.4.1->-r requirements.txt (line 5)) (1.1.1)\n",
      "Collecting vine<6.0,>=5.0.0\n",
      "  Using cached vine-5.0.0-py2.py3-none-any.whl (9.4 kB)\n",
      "Collecting gitdb<5,>=4.0.1\n",
      "  Using cached gitdb-4.0.10-py3-none-any.whl (62 kB)\n",
      "Collecting amqp<6.0.0,>=5.0.9\n",
      "  Using cached amqp-5.1.1-py3-none-any.whl (50 kB)\n",
      "Requirement already satisfied: mdurl~=0.1 in /opt/conda/lib/python3.9/site-packages (from markdown-it-py<3.0.0,>=2.2.0->rich>=12->dvc>=2.18.1->CFEDemands>=0.4.1->-r requirements.txt (line 5)) (0.1.2)\n",
      "Requirement already satisfied: cffi>=1.9.1 in /opt/conda/lib/python3.9/site-packages (from pygit2>=1.10.0->scmrepo<2,>=1.0.0->dvc>=2.18.1->CFEDemands>=0.4.1->-r requirements.txt (line 5)) (1.14.6)\n",
      "Collecting orjson\n",
      "  Using cached orjson-3.8.10-cp39-cp39-manylinux_2_28_x86_64.whl (140 kB)\n",
      "Requirement already satisfied: multidict<7.0,>=4.5 in /opt/conda/lib/python3.9/site-packages (from aiohttp->aiohttp-retry>=2.5.0->dvc-http>=2.29.0->dvc>=2.18.1->CFEDemands>=0.4.1->-r requirements.txt (line 5)) (6.0.4)\n",
      "Requirement already satisfied: async-timeout<5.0,>=4.0.0a3 in /opt/conda/lib/python3.9/site-packages (from aiohttp->aiohttp-retry>=2.5.0->dvc-http>=2.29.0->dvc>=2.18.1->CFEDemands>=0.4.1->-r requirements.txt (line 5)) (4.0.2)\n",
      "Requirement already satisfied: yarl<2.0,>=1.0 in /opt/conda/lib/python3.9/site-packages (from aiohttp->aiohttp-retry>=2.5.0->dvc-http>=2.29.0->dvc>=2.18.1->CFEDemands>=0.4.1->-r requirements.txt (line 5)) (1.8.2)\n"
     ]
    },
    {
     "name": "stdout",
     "output_type": "stream",
     "text": [
      "Requirement already satisfied: pycparser in /opt/conda/lib/python3.9/site-packages (from cffi>=1.9.1->pygit2>=1.10.0->scmrepo<2,>=1.0.0->dvc>=2.18.1->CFEDemands>=0.4.1->-r requirements.txt (line 5)) (2.20)\n",
      "Requirement already satisfied: prompt-toolkit in /opt/conda/lib/python3.9/site-packages (from click-repl>=0.2.0->celery<6,>=5.2.0->dvc-task<1,>=0.2.0->dvc>=2.18.1->CFEDemands>=0.4.1->-r requirements.txt (line 5)) (3.0.38)\n",
      "Collecting smmap<6,>=3.0.1\n",
      "  Using cached smmap-5.0.0-py3-none-any.whl (24 kB)\n",
      "Requirement already satisfied: wcwidth in /opt/conda/lib/python3.9/site-packages (from prompt-toolkit->click-repl>=0.2.0->celery<6,>=5.2.0->dvc-task<1,>=0.2.0->dvc>=2.18.1->CFEDemands>=0.4.1->-r requirements.txt (line 5)) (0.2.6)\n",
      "Installing collected packages: voluptuous, pytz, python-gnupg, pygtrie, nanotime, funcy, eep153_tools, dictdiffer, ConsumerDemands, billiard, antlr4-python3-runtime, zc.lockfile, vine, tzdata, tqdm, tomlkit, smmap, shtab, shortuuid, python-dateutil, pydot, pathspec, orjson, omegaconf, joblib, grandalf, flatten-dict, dvc-render, dulwich, dpath, distro, diskcache, configobj, click-didyoumean, attrs, atpublic, sqltrie, rich, pygit2, pandas, oauth2client, iterative-telemetry, hydra-core, gitdb, flufl.lock, dvc-studio-client, dvc-objects, click-repl, amqp, xarray, ray, kombu, gitpython, dvc-data, asyncssh, aiohttp-retry, scmrepo, gspread, dvc-http, celery, gspread_pandas, dvc-task, dvc, CFEDemands\n",
      "  Attempting uninstall: pytz\n",
      "    Found existing installation: pytz 2021.1\n",
      "    Uninstalling pytz-2021.1:\n",
      "      Successfully uninstalled pytz-2021.1\n",
      "  Attempting uninstall: tqdm\n",
      "    Found existing installation: tqdm 4.62.1\n",
      "    Uninstalling tqdm-4.62.1:\n",
      "      Successfully uninstalled tqdm-4.62.1\n",
      "  Attempting uninstall: python-dateutil\n",
      "    Found existing installation: python-dateutil 2.8.0\n",
      "    Uninstalling python-dateutil-2.8.0:\n",
      "      Successfully uninstalled python-dateutil-2.8.0\n",
      "  Attempting uninstall: pathspec\n",
      "    Found existing installation: pathspec 0.9.0\n",
      "    Uninstalling pathspec-0.9.0:\n",
      "      Successfully uninstalled pathspec-0.9.0\n",
      "  Attempting uninstall: joblib\n",
      "    Found existing installation: joblib 1.0.1\n",
      "    Uninstalling joblib-1.0.1:\n",
      "      Successfully uninstalled joblib-1.0.1\n",
      "  Attempting uninstall: attrs\n",
      "    Found existing installation: attrs 19.3.0\n",
      "    Uninstalling attrs-19.3.0:\n",
      "      Successfully uninstalled attrs-19.3.0\n",
      "  Attempting uninstall: pandas\n",
      "    Found existing installation: pandas 1.3.5\n",
      "    Uninstalling pandas-1.3.5:\n",
      "      Successfully uninstalled pandas-1.3.5\n",
      "  Attempting uninstall: xarray\n",
      "    Found existing installation: xarray 0.19.0\n",
      "    Uninstalling xarray-0.19.0:\n",
      "      Successfully uninstalled xarray-0.19.0\n",
      "  Attempting uninstall: ray\n",
      "    Found existing installation: ray 1.13.0\n",
      "    Uninstalling ray-1.13.0:\n",
      "      Successfully uninstalled ray-1.13.0\n",
      "  Attempting uninstall: gspread\n",
      "    Found existing installation: gspread 4.0.1\n",
      "    Uninstalling gspread-4.0.1:\n",
      "      Successfully uninstalled gspread-4.0.1\n",
      "  Attempting uninstall: gspread_pandas\n",
      "    Found existing installation: gspread-pandas 2.3.0\n",
      "    Uninstalling gspread-pandas-2.3.0:\n",
      "      Successfully uninstalled gspread-pandas-2.3.0\n",
      "\u001b[31mERROR: pip's dependency resolver does not currently take into account all the packages that are installed. This behaviour is the source of the following dependency conflicts.\n",
      "pysal 2.5.0 requires python-dateutil<=2.8.0, but you have python-dateutil 2.8.2 which is incompatible.\n",
      "dbt-core 1.3.0 requires pathspec~=0.9.0, but you have pathspec 0.11.1 which is incompatible.\n",
      "datasets 2.2.1 requires pyarrow>=6.0.0, but you have pyarrow 5.0.0 which is incompatible.\n",
      "ast-scope 0.3.1 requires attrs==19.3.0, but you have attrs 23.1.0 which is incompatible.\u001b[0m\u001b[31m\n",
      "\u001b[0mSuccessfully installed CFEDemands-0.5.4 ConsumerDemands-0.4.1.dev0 aiohttp-retry-2.8.3 amqp-5.1.1 antlr4-python3-runtime-4.9.3 asyncssh-2.13.1 atpublic-3.1.1 attrs-23.1.0 billiard-3.6.4.0 celery-5.2.7 click-didyoumean-0.3.0 click-repl-0.2.0 configobj-5.0.8 dictdiffer-0.9.0 diskcache-5.6.1 distro-1.8.0 dpath-2.1.5 dulwich-0.21.3 dvc-2.55.0 dvc-data-0.47.2 dvc-http-2.30.2 dvc-objects-0.21.2 dvc-render-0.3.1 dvc-studio-client-0.8.0 dvc-task-0.2.1 eep153_tools-0.11 flatten-dict-0.4.2 flufl.lock-7.1.1 funcy-2.0 gitdb-4.0.10 gitpython-3.1.31 grandalf-0.8 gspread-5.8.0 gspread_pandas-3.2.2 hydra-core-1.3.2 iterative-telemetry-0.0.8 joblib-1.2.0 kombu-5.2.4 nanotime-0.5.2 oauth2client-4.1.3 omegaconf-2.3.0 orjson-3.8.10 pandas-2.0.1 pathspec-0.11.1 pydot-1.4.2 pygit2-1.12.0 pygtrie-2.5.0 python-dateutil-2.8.2 python-gnupg-0.5.0 pytz-2023.3 ray-2.4.0 rich-13.3.5 scmrepo-1.0.2 shortuuid-1.0.11 shtab-1.6.1 smmap-5.0.0 sqltrie-0.3.1 tomlkit-0.11.8 tqdm-4.65.0 tzdata-2023.3 vine-5.0.0 voluptuous-0.13.1 xarray-2023.4.2 zc.lockfile-3.0.post1\n"
     ]
    }
   ],
   "source": [
    "!pip install -r requirements.txt"
   ]
  },
  {
   "cell_type": "markdown",
   "metadata": {},
   "source": [
    "### Data\n",
    "\n"
   ]
  },
  {
   "cell_type": "markdown",
   "metadata": {},
   "source": [
    "We&rsquo;ll get data from two places.  First, basic data, including a food\n",
    " conversion table and recommended daily intakes table can be found in\n",
    " a google spreadsheet.\n",
    "\n",
    "Here are addresses of google sheets for different dataframes for the\n",
    "case of Uganda:\n",
    "\n"
   ]
  },
  {
   "cell_type": "code",
   "execution_count": 4,
   "metadata": {},
   "outputs": [],
   "source": [
    "InputFiles = {'FCT':('13Ig5hZif-NSHtgkKRp_cEgKXk0lOsdUB2BAD6O_FnRo','FCT'),\n",
    "              'RDI':('13Ig5hZif-NSHtgkKRp_cEgKXk0lOsdUB2BAD6O_FnRo','RDI'),}"
   ]
  },
  {
   "cell_type": "markdown",
   "metadata": {},
   "source": [
    "#### Prices, FCT, RDI\n",
    "\n"
   ]
  },
  {
   "cell_type": "code",
   "execution_count": 5,
   "metadata": {},
   "outputs": [
    {
     "name": "stdout",
     "output_type": "stream",
     "text": [
      "Key available for students@eep153.iam.gserviceaccount.com.\n",
      "Key available for students@eep153.iam.gserviceaccount.com.\n"
     ]
    }
   ],
   "source": [
    "from eep153_tools.sheets import read_sheets\n",
    "import numpy as np\n",
    "import pandas as pd\n",
    "\n",
    "def get_clean_sheet(key,sheet=None):\n",
    "\n",
    "    df = read_sheets(key,sheet=sheet)\n",
    "    df.columns = [c.strip() for c in df.columns.tolist()]\n",
    "\n",
    "    df = df.loc[:,~df.columns.duplicated(keep='first')]\n",
    "\n",
    "    df = df.drop([col for col in df.columns if col.startswith('Unnamed')], axis=1)\n",
    "\n",
    "    df = df.loc[~df.index.duplicated(), :]\n",
    "\n",
    "    return df\n",
    "\n",
    "fct = get_clean_sheet(InputFiles['FCT'][0],\n",
    "                    sheet=InputFiles['FCT'][1])\n",
    "\n",
    "fct = fct.set_index('j')\n",
    "fct.columns.name = 'n'\n",
    "\n",
    "fct = fct.apply(lambda x: pd.to_numeric(x,errors='coerce'))\n",
    "\n",
    "################## RDI, if available (consider using US) #####################\n",
    "rdi = get_clean_sheet(InputFiles['RDI'][0],\n",
    "                    sheet=InputFiles['RDI'][1])\n",
    "rdi = rdi.set_index('n')\n",
    "rdi.columns.name = 'k'"
   ]
  },
  {
   "cell_type": "code",
   "execution_count": 6,
   "metadata": {},
   "outputs": [],
   "source": [
    "import pyarrow.parquet as pq\n",
    "\n",
    "# Get prices \n",
    "p = pq.read_table(source='ap68_prices.parquet').to_pandas()\n",
    "p.reset_index(level='unit', drop=True, inplace=True)"
   ]
  },
  {
   "cell_type": "markdown",
   "metadata": {},
   "source": [
    "#### Pre-estimated Demand Systems\n",
    "\n"
   ]
  },
  {
   "cell_type": "markdown",
   "metadata": {},
   "source": [
    "An instance `r` of `cfe.Regression` can be made persistent with\n",
    " `r.to_pickle('my_result.pickle')`, which saves the instance &ldquo;on disk&rdquo;, and can be loaded using `cfe.regression.read_pickle`.  We use  this method below to load data and demand system previously estimated for Uganda:\n",
    "\n"
   ]
  },
  {
   "cell_type": "code",
   "execution_count": 7,
   "metadata": {},
   "outputs": [
    {
     "name": "stdout",
     "output_type": "stream",
     "text": [
      "Missing dependencies for OracleDemands.\n"
     ]
    }
   ],
   "source": [
    "import cfe.regression as rgsn\n",
    "\n",
    "r = rgsn.read_pickle('ap68.pickle')  # Assumes you've already set this up e.g., in Project 3"
   ]
  },
  {
   "cell_type": "markdown",
   "metadata": {},
   "source": [
    "### Ceteris Paribus\n",
    "\n"
   ]
  },
  {
   "cell_type": "markdown",
   "metadata": {},
   "source": [
    "We begin by setting up some benchmarks for prices and budgets, so\n",
    "    the things we don&rsquo;t want to change we can hold fixed.\n",
    "\n"
   ]
  },
  {
   "cell_type": "markdown",
   "metadata": {},
   "source": [
    "#### Reference Prices\n",
    "\n"
   ]
  },
  {
   "cell_type": "markdown",
   "metadata": {},
   "source": [
    "Choose reference prices.  Here we&rsquo;ll choose a particular year, and average prices across markets.  If you wanted to focus on particular market you&rsquo;d do this differently.\n",
    "\n"
   ]
  },
  {
   "cell_type": "code",
   "execution_count": 8,
   "metadata": {},
   "outputs": [],
   "source": [
    "# Reference prices chosen from a particular time; average across place.\n",
    "# These are prices per kilogram:\n",
    "pbar = p # Prof Ligon provided what are presumably already average prices \n",
    "pbar = pbar.loc[r.beta.index] # Only use prices for goods we can estimate\n",
    "pbar = pbar.iloc[:,0]"
   ]
  },
  {
   "cell_type": "markdown",
   "metadata": {},
   "source": [
    "#### Budgets\n",
    "\n"
   ]
  },
  {
   "cell_type": "markdown",
   "metadata": {},
   "source": [
    "Get food budget for all households, then find median budget:\n",
    "\n"
   ]
  },
  {
   "cell_type": "code",
   "execution_count": 9,
   "metadata": {},
   "outputs": [],
   "source": [
    "import numpy as np\n",
    "\n",
    "xhat = r.predicted_expenditures()\n",
    "\n",
    "# Total food expenditures per household\n",
    "xbar = xhat.groupby(['i','t','m']).sum()\n",
    "\n",
    "# Reference budget\n",
    "x0 = xbar.quantile(0.5)  # Household at 0.5 quantile is median"
   ]
  },
  {
   "cell_type": "markdown",
   "metadata": {},
   "source": [
    "#### Changing one price, holding others fixed\n",
    "\n"
   ]
  },
  {
   "cell_type": "markdown",
   "metadata": {},
   "source": [
    "Finally, define a function to change a single price in the vector $p$:\n",
    "\n"
   ]
  },
  {
   "cell_type": "code",
   "execution_count": 10,
   "metadata": {},
   "outputs": [],
   "source": [
    "def my_prices(p0,p=pbar,j='tomato'):\n",
    "    \"\"\"\n",
    "    Change price of jth good to p0, holding other prices fixed.\n",
    "    \"\"\"\n",
    "    p = p.copy()\n",
    "    p.loc[j] = p0\n",
    "    return p"
   ]
  },
  {
   "cell_type": "markdown",
   "metadata": {},
   "source": [
    "### Simple Policy Experiments: Changing Prices\n",
    "\n"
   ]
  },
  {
   "cell_type": "markdown",
   "metadata": {},
   "source": [
    "If price of a good increases/decreases, what&rsquo;s the cost to the\n",
    "household?  Ask a related question: If a price $p_1$ increases, how\n",
    "much *income* do we need to give to the household to make it just as\n",
    "well off as it was at the old prices?\n",
    "\n",
    "Summarize this as the  *compensating variation* associated with the\n",
    "price change.\n",
    "\n",
    "![img](./compensating_variation.png)\n",
    "\n",
    "Compensating Variation can also be measured as the (change in the)\n",
    "area under the **Hicksian** (or **compensated**) demand curve:\n",
    "\n",
    "![img](./compensating_variation_newexpenditure.png).\n",
    "\n"
   ]
  },
  {
   "cell_type": "markdown",
   "metadata": {},
   "source": [
    "#### Marshallian vs. Hicksian Demand Curves\n",
    "\n"
   ]
  },
  {
   "cell_type": "markdown",
   "metadata": {},
   "source": [
    "Let&rsquo;s look at Marshallian & Hicksian demands&#x2014;one way of thinking\n",
    "about the Hicksian (compensated) curves is that they  eliminate the\n",
    "income effect associated with changing prices.\n",
    "\n"
   ]
  },
  {
   "cell_type": "code",
   "execution_count": 15,
   "metadata": {},
   "outputs": [
    {
     "data": {
      "text/plain": [
       "<matplotlib.legend.Legend at 0x7f9d130b94f0>"
      ]
     },
     "execution_count": 15,
     "metadata": {},
     "output_type": "execute_result"
    },
    {
     "data": {
      "image/png": "[encoded data removed]",
      "text/plain": [
       "<Figure size 640x480 with 1 Axes>"
      ]
     },
     "metadata": {},
     "output_type": "display_data"
    }
   ],
   "source": [
    "import matplotlib.pyplot as plt\n",
    "%matplotlib inline\n",
    "\n",
    "my_j = 'potato'  # Interesting [REGION] staple\n",
    "\n",
    "P = np.geomspace(.01,10,50)*pbar[my_j]\n",
    "\n",
    "# Utility of median household, given prices\n",
    "U0 = r.indirect_utility(x0,pbar)\n",
    "\n",
    "plt.plot([r.demands(x0,my_prices(p0,j=my_j))[my_j] for p0 in P],P)\n",
    "plt.plot([r.demands(U0,my_prices(p0,j=my_j),type=\"Hicksian\")[my_j] for p0 in P],P)\n",
    "plt.ylabel('Price')\n",
    "plt.xlabel(my_j)\n",
    "plt.legend((\"Marshallian\",\"Hicksian\"))"
   ]
  },
  {
   "cell_type": "markdown",
   "metadata": {},
   "source": [
    "#### Welfare measures\n",
    "\n"
   ]
  },
  {
   "cell_type": "code",
   "execution_count": 12,
   "metadata": {},
   "outputs": [],
   "source": [
    "def compensating_variation(U0,p0,p1):\n",
    "    x0 = r.expenditure(U0,p0)\n",
    "    x1 = r.expenditure(U0,p1)\n",
    "\n",
    "    return x1-x0\n",
    "\n",
    "def revenue(U0,p0,p1,type='Marshallian'):\n",
    "    \"\"\"(Un)Compensated revenue from taxes changing vector of prices from p0 to p1.\n",
    "\n",
    "    Note that this is only for *demand* side (i.e., if supply perfectly elastic).\n",
    "    \"\"\"\n",
    "    \n",
    "    dp = p1 - p0 # Change in prices\n",
    "\n",
    "    c = r.demands(U0,p1,type=type)\n",
    "\n",
    "    dp,c = dp.align(c,join='inner')\n",
    "\n",
    "    return dp.T@c\n",
    "\n",
    "\n",
    "def deadweight_loss(U0,p0,p1):\n",
    "    \"\"\"\n",
    "    Deadweight loss of tax/subsidy scheme creating wedge in prices from p0 to p1.\n",
    "\n",
    "    Note that this is only for *demand* side (i.e., if supply perfectly elastic).\n",
    "    \"\"\"\n",
    "    cv = compensating_variation(U0,p0,p1)\n",
    "\n",
    "    return cv - revenue(U0,p0,p1,type='Hicksian')"
   ]
  },
  {
   "cell_type": "markdown",
   "metadata": {},
   "source": [
    "#### Price Changes, Revenue, and Compensating Variation\n",
    "\n"
   ]
  },
  {
   "cell_type": "markdown",
   "metadata": {},
   "source": [
    "Examine effects of price changes on revenue (if price change due to a\n",
    "tax or subsidy) and compensating variation.\n",
    "\n"
   ]
  },
  {
   "cell_type": "code",
   "execution_count": 16,
   "metadata": {},
   "outputs": [
    {
     "data": {
      "text/plain": [
       "<matplotlib.lines.Line2D at 0x7f9d13041a60>"
      ]
     },
     "execution_count": 16,
     "metadata": {},
     "output_type": "execute_result"
    },
    {
     "data": {
      "image/png": "[encoded data removed]",
      "text/plain": [
       "<Figure size 640x480 with 1 Axes>"
      ]
     },
     "metadata": {},
     "output_type": "display_data"
    }
   ],
   "source": [
    "fig, ax1 = plt.subplots()\n",
    "\n",
    "ax1.plot(P,[compensating_variation(U0,pbar,my_prices(p0,j=my_j)) for p0 in P])\n",
    "ax1.set_xlabel(f\"Price of {my_j}\")\n",
    "ax1.set_ylabel(\"Compensating Variation\")\n",
    "\n",
    "ax1.plot(P,[revenue(U0,pbar,my_prices(p0,j=my_j),type='Hicksian') for p0 in P],'k')\n",
    "ax1.legend(('Compensating Variation','Revenue'))\n",
    "ax1.axhline(0)\n",
    "ax1.axvline(pbar.loc[my_j])"
   ]
  },
  {
   "cell_type": "markdown",
   "metadata": {},
   "source": [
    "#### Deadweight Loss\n",
    "\n"
   ]
  },
  {
   "cell_type": "markdown",
   "metadata": {},
   "source": [
    "Differences between revenue and compensating variation is deadweight-loss:\n",
    "\n"
   ]
  },
  {
   "cell_type": "code",
   "execution_count": 17,
   "metadata": {},
   "outputs": [
    {
     "data": {
      "text/plain": [
       "Text(0, 0.5, 'Deadweight Loss')"
      ]
     },
     "execution_count": 17,
     "metadata": {},
     "output_type": "execute_result"
    },
    {
     "data": {
      "image/png": "[encoded data removed]",
      "text/plain": [
       "<Figure size 640x480 with 1 Axes>"
      ]
     },
     "metadata": {},
     "output_type": "display_data"
    }
   ],
   "source": [
    "fig, ax1 = plt.subplots()\n",
    "\n",
    "ax1.plot(P,[deadweight_loss(U0,pbar,my_prices(p0,j=my_j)) for p0 in P])\n",
    "ax1.set_xlabel(\"Price of %s\" % my_j)\n",
    "ax1.set_ylabel(\"Deadweight Loss\")"
   ]
  },
  {
   "cell_type": "code",
   "execution_count": null,
   "metadata": {},
   "outputs": [],
   "source": []
  }
 ],
 "metadata": {
  "kernelspec": {
   "display_name": "Python 3 (ipykernel)",
   "language": "python",
   "name": "python3"
  },
  "language_info": {
   "codemirror_mode": {
    "name": "ipython",
    "version": 3
   },
   "file_extension": ".py",
   "mimetype": "text/x-python",
   "name": "python",
   "nbconvert_exporter": "python",
   "pygments_lexer": "ipython3",
   "version": "3.9.15"
  },
  "org": null
 },
 "nbformat": 4,
 "nbformat_minor": 1
}
