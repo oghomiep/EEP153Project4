{
 "cells": [
  {
   "cell_type": "markdown",
   "metadata": {},
   "source": [
    "## Nutrient Demands\n",
    "\n"
   ]
  },
  {
   "cell_type": "markdown",
   "metadata": {},
   "source": [
    "### Introduction\n",
    "\n"
   ]
  },
  {
   "cell_type": "markdown",
   "metadata": {},
   "source": [
    "In our last project we used data to estimate systems of food demand\n",
    "using different datasets.  An output from that project was as set of\n",
    "`cfe.Regression` objects; these bundle together both data and the results\n",
    "from the demand system estimation, and can be used for prediction as\n",
    "well.\n",
    "\n",
    "Here we&rsquo;ll explore some of the uses of the `cfe.Regression` class, using\n",
    "an instance created previously (as in Project 3).\n",
    "\n",
    "After having estimated a demand system using data from our favorite country, we can imagine different counterfactual scenarios.  What if prices were different?  What if we give a cash transfer to a household?  What if school fees reduce the budget for food?  What are the consequences of any of these for diet & nutrition?\n",
    "\n",
    "If you don&rsquo;t already have the latest version of the `CFEDemands` package\n",
    "installed, grab it, along with some dependencies:\n",
    "\n"
   ]
  },
  {
   "cell_type": "code",
   "execution_count": 1,
   "metadata": {},
   "outputs": [
    {
     "name": "stdout",
     "output_type": "stream",
     "text": [
      "Collecting CFEDemands>=0.4.1\n",
      "  Using cached CFEDemands-0.5.4-py2.py3-none-any.whl (47 kB)\n",
      "Collecting gspread>=5.0.1\n",
      "  Using cached gspread-5.8.0-py3-none-any.whl (40 kB)\n",
      "Collecting gspread_pandas>=3.2.0\n",
      "  Using cached gspread_pandas-3.2.2-py2.py3-none-any.whl (26 kB)\n",
      "Collecting oauth2client>=4.1.3\n",
      "  Using cached oauth2client-4.1.3-py2.py3-none-any.whl (98 kB)\n",
      "Collecting eep153_tools>=0.11\n",
      "  Using cached eep153_tools-0.11-py2.py3-none-any.whl (4.4 kB)\n",
      "Collecting python-gnupg\n",
      "  Using cached python_gnupg-0.5.0-py2.py3-none-any.whl (18 kB)\n",
      "Collecting ConsumerDemands\n",
      "  Using cached ConsumerDemands-0.4.1.dev0-py2.py3-none-any.whl (12 kB)\n",
      "Requirement already satisfied: matplotlib>=3.5.1 in /opt/conda/lib/python3.9/site-packages (from CFEDemands>=0.4.1->-r requirements.txt (line 5)) (3.5.3)\n",
      "Collecting joblib>=1.1.0\n",
      "  Using cached joblib-1.2.0-py3-none-any.whl (297 kB)\n",
      "Collecting xarray>=0.20.1\n",
      "  Using cached xarray-2023.4.1-py3-none-any.whl (977 kB)\n",
      "Requirement already satisfied: numpy>=1.21.5 in /opt/conda/lib/python3.9/site-packages (from CFEDemands>=0.4.1->-r requirements.txt (line 5)) (1.21.6)\n",
      "Requirement already satisfied: scipy>=1.7.3 in /opt/conda/lib/python3.9/site-packages (from CFEDemands>=0.4.1->-r requirements.txt (line 5)) (1.10.1)\n",
      "Collecting ray>=2.0.0\n",
      "  Using cached ray-2.3.1-cp39-cp39-manylinux2014_x86_64.whl (58.6 MB)\n",
      "Collecting pandas>=1.4.2\n",
      "  Using cached pandas-2.0.0-cp39-cp39-manylinux_2_17_x86_64.manylinux2014_x86_64.whl (12.4 MB)\n",
      "Requirement already satisfied: pytest>=7.1.1 in /opt/conda/lib/python3.9/site-packages (from CFEDemands>=0.4.1->-r requirements.txt (line 5)) (7.2.2)\n",
      "Requirement already satisfied: statsmodels>=0.13.2 in /opt/conda/lib/python3.9/site-packages (from CFEDemands>=0.4.1->-r requirements.txt (line 5)) (0.13.5)\n",
      "Collecting dvc>=2.18.1\n",
      "  Downloading dvc-2.55.0-py3-none-any.whl (419 kB)\n",
      "\u001b[2K     \u001b[90m━━━━━━━━━━━━━━━━━━━━━━━━━━━━━━━━━━━━━━━\u001b[0m \u001b[32m419.3/419.3 kB\u001b[0m \u001b[31m4.5 MB/s\u001b[0m eta \u001b[36m0:00:00\u001b[0m00:01\u001b[0m00:01\u001b[0m\n",
      "\u001b[?25hRequirement already satisfied: google-auth>=1.12.0 in /opt/conda/lib/python3.9/site-packages (from gspread>=5.0.1->-r requirements.txt (line 7)) (2.17.1)\n",
      "Requirement already satisfied: google-auth-oauthlib>=0.4.1 in /opt/conda/lib/python3.9/site-packages (from gspread>=5.0.1->-r requirements.txt (line 7)) (0.4.5)\n",
      "Requirement already satisfied: decorator in /opt/conda/lib/python3.9/site-packages (from gspread_pandas>=3.2.0->-r requirements.txt (line 8)) (5.0.9)\n",
      "Requirement already satisfied: six>=1.6.1 in /opt/conda/lib/python3.9/site-packages (from oauth2client>=4.1.3->-r requirements.txt (line 11)) (1.16.0)\n",
      "Requirement already satisfied: rsa>=3.1.4 in /opt/conda/lib/python3.9/site-packages (from oauth2client>=4.1.3->-r requirements.txt (line 11)) (4.9)\n",
      "Requirement already satisfied: httplib2>=0.9.1 in /opt/conda/lib/python3.9/site-packages (from oauth2client>=4.1.3->-r requirements.txt (line 11)) (0.22.0)\n",
      "Requirement already satisfied: pyasn1-modules>=0.0.5 in /opt/conda/lib/python3.9/site-packages (from oauth2client>=4.1.3->-r requirements.txt (line 11)) (0.2.7)\n",
      "Requirement already satisfied: pyasn1>=0.1.7 in /opt/conda/lib/python3.9/site-packages (from oauth2client>=4.1.3->-r requirements.txt (line 11)) (0.4.8)\n",
      "Collecting scmrepo<2,>=1.0.0\n",
      "  Using cached scmrepo-1.0.2-py3-none-any.whl (54 kB)\n",
      "Requirement already satisfied: colorama>=0.3.9 in /opt/conda/lib/python3.9/site-packages (from dvc>=2.18.1->CFEDemands>=0.4.1->-r requirements.txt (line 5)) (0.4.4)\n",
      "Collecting hydra-core>=1.1\n",
      "  Using cached hydra_core-1.3.2-py3-none-any.whl (154 kB)\n",
      "Requirement already satisfied: requests>=2.22 in /opt/conda/lib/python3.9/site-packages (from dvc>=2.18.1->CFEDemands>=0.4.1->-r requirements.txt (line 5)) (2.26.0)\n",
      "Collecting distro>=1.3\n",
      "  Using cached distro-1.8.0-py3-none-any.whl (20 kB)\n",
      "Collecting flatten-dict<1,>=0.4.1\n",
      "  Using cached flatten_dict-0.4.2-py2.py3-none-any.whl (9.7 kB)\n",
      "Requirement already satisfied: packaging>=19 in /opt/conda/lib/python3.9/site-packages (from dvc>=2.18.1->CFEDemands>=0.4.1->-r requirements.txt (line 5)) (21.3)\n",
      "Collecting pydot>=1.2.4\n",
      "  Using cached pydot-1.4.2-py2.py3-none-any.whl (21 kB)\n",
      "Collecting dvc-render<0.4.0,>=0.3.1\n",
      "  Using cached dvc_render-0.3.1-py3-none-any.whl (18 kB)\n",
      "Collecting dvc-task<1,>=0.2.0\n",
      "  Using cached dvc_task-0.2.0-py3-none-any.whl (23 kB)\n",
      "Requirement already satisfied: platformdirs<4,>=3.1.1 in /opt/conda/lib/python3.9/site-packages (from dvc>=2.18.1->CFEDemands>=0.4.1->-r requirements.txt (line 5)) (3.2.0)\n",
      "Collecting configobj>=5.0.6\n",
      "  Using cached configobj-5.0.8-py2.py3-none-any.whl (36 kB)\n",
      "Collecting dvc-data<0.48,>=0.47.1\n",
      "  Using cached dvc_data-0.47.2-py3-none-any.whl (59 kB)\n",
      "Collecting funcy>=1.14\n",
      "  Using cached funcy-2.0-py2.py3-none-any.whl (30 kB)\n",
      "Collecting pygtrie>=2.3.2\n",
      "  Using cached pygtrie-2.5.0-py3-none-any.whl (25 kB)\n",
      "Collecting pathspec>=0.10.3\n",
      "  Using cached pathspec-0.11.1-py3-none-any.whl (29 kB)\n",
      "Collecting grandalf<1,>=0.7\n",
      "  Using cached grandalf-0.8-py3-none-any.whl (41 kB)\n",
      "Requirement already satisfied: ruamel.yaml>=0.17.11 in /opt/conda/lib/python3.9/site-packages (from dvc>=2.18.1->CFEDemands>=0.4.1->-r requirements.txt (line 5)) (0.17.21)\n",
      "Collecting flufl.lock>=5\n",
      "  Using cached flufl.lock-7.1.1-py3-none-any.whl (11 kB)\n",
      "Requirement already satisfied: psutil>=5.8 in /opt/conda/lib/python3.9/site-packages (from dvc>=2.18.1->CFEDemands>=0.4.1->-r requirements.txt (line 5)) (5.9.4)\n",
      "Requirement already satisfied: tabulate>=0.8.7 in /opt/conda/lib/python3.9/site-packages (from dvc>=2.18.1->CFEDemands>=0.4.1->-r requirements.txt (line 5)) (0.9.0)\n",
      "Collecting rich>=12\n",
      "  Using cached rich-13.3.4-py3-none-any.whl (238 kB)\n",
      "Collecting dvc-studio-client<1,>=0.6.1\n",
      "  Downloading dvc_studio_client-0.8.0-py3-none-any.whl (10 kB)\n",
      "Collecting dvc-http>=2.29.0\n",
      "  Using cached dvc_http-2.30.2-py3-none-any.whl (12 kB)\n",
      "Requirement already satisfied: networkx>=2.5 in /opt/conda/lib/python3.9/site-packages (from dvc>=2.18.1->CFEDemands>=0.4.1->-r requirements.txt (line 5)) (2.6.3)\n",
      "Collecting iterative-telemetry>=0.0.7\n",
      "  Using cached iterative_telemetry-0.0.8-py3-none-any.whl (10 kB)\n",
      "Collecting tomlkit>=0.11.1\n",
      "  Using cached tomlkit-0.11.7-py3-none-any.whl (35 kB)\n",
      "Collecting tqdm<5,>=4.63.1\n",
      "  Using cached tqdm-4.65.0-py3-none-any.whl (77 kB)\n",
      "Collecting dpath<3,>=2.1.0\n",
      "  Using cached dpath-2.1.5-py3-none-any.whl (17 kB)\n",
      "Collecting zc.lockfile>=1.2.1\n",
      "  Using cached zc.lockfile-3.0.post1-py3-none-any.whl (9.8 kB)\n",
      "Collecting shtab<2,>=1.3.4\n",
      "  Using cached shtab-1.6.1-py3-none-any.whl (13 kB)\n",
      "Collecting shortuuid>=0.5\n",
      "  Using cached shortuuid-1.0.11-py3-none-any.whl (10 kB)\n",
      "Requirement already satisfied: pyparsing>=2.4.7 in /opt/conda/lib/python3.9/site-packages (from dvc>=2.18.1->CFEDemands>=0.4.1->-r requirements.txt (line 5)) (3.0.9)\n",
      "Collecting voluptuous>=0.11.7\n",
      "  Using cached voluptuous-0.13.1-py3-none-any.whl (29 kB)\n",
      "Requirement already satisfied: cachetools<6.0,>=2.0.0 in /opt/conda/lib/python3.9/site-packages (from google-auth>=1.12.0->gspread>=5.0.1->-r requirements.txt (line 7)) (5.3.0)\n",
      "Requirement already satisfied: requests-oauthlib>=0.7.0 in /opt/conda/lib/python3.9/site-packages (from google-auth-oauthlib>=0.4.1->gspread>=5.0.1->-r requirements.txt (line 7)) (1.3.1)\n",
      "Requirement already satisfied: python-dateutil>=2.7 in /opt/conda/lib/python3.9/site-packages (from matplotlib>=3.5.1->CFEDemands>=0.4.1->-r requirements.txt (line 5)) (2.8.0)\n",
      "Requirement already satisfied: pillow>=6.2.0 in /opt/conda/lib/python3.9/site-packages (from matplotlib>=3.5.1->CFEDemands>=0.4.1->-r requirements.txt (line 5)) (9.4.0)\n",
      "Requirement already satisfied: cycler>=0.10 in /opt/conda/lib/python3.9/site-packages (from matplotlib>=3.5.1->CFEDemands>=0.4.1->-r requirements.txt (line 5)) (0.11.0)\n",
      "Requirement already satisfied: fonttools>=4.22.0 in /opt/conda/lib/python3.9/site-packages (from matplotlib>=3.5.1->CFEDemands>=0.4.1->-r requirements.txt (line 5)) (4.39.3)\n",
      "Requirement already satisfied: kiwisolver>=1.0.1 in /opt/conda/lib/python3.9/site-packages (from matplotlib>=3.5.1->CFEDemands>=0.4.1->-r requirements.txt (line 5)) (1.4.4)\n",
      "Requirement already satisfied: pytz>=2020.1 in /opt/conda/lib/python3.9/site-packages (from pandas>=1.4.2->CFEDemands>=0.4.1->-r requirements.txt (line 5)) (2021.1)\n"
     ]
    },
    {
     "name": "stdout",
     "output_type": "stream",
     "text": [
      "Collecting tzdata>=2022.1\n",
      "  Using cached tzdata-2023.3-py2.py3-none-any.whl (341 kB)\n",
      "Collecting python-dateutil>=2.7\n",
      "  Using cached python_dateutil-2.8.2-py2.py3-none-any.whl (247 kB)\n",
      "Requirement already satisfied: exceptiongroup>=1.0.0rc8 in /opt/conda/lib/python3.9/site-packages (from pytest>=7.1.1->CFEDemands>=0.4.1->-r requirements.txt (line 5)) (1.1.1)\n",
      "Requirement already satisfied: attrs>=19.2.0 in /opt/conda/lib/python3.9/site-packages (from pytest>=7.1.1->CFEDemands>=0.4.1->-r requirements.txt (line 5)) (19.3.0)\n",
      "Requirement already satisfied: tomli>=1.0.0 in /opt/conda/lib/python3.9/site-packages (from pytest>=7.1.1->CFEDemands>=0.4.1->-r requirements.txt (line 5)) (2.0.1)\n",
      "Requirement already satisfied: iniconfig in /opt/conda/lib/python3.9/site-packages (from pytest>=7.1.1->CFEDemands>=0.4.1->-r requirements.txt (line 5)) (2.0.0)\n",
      "Requirement already satisfied: pluggy<2.0,>=0.12 in /opt/conda/lib/python3.9/site-packages (from pytest>=7.1.1->CFEDemands>=0.4.1->-r requirements.txt (line 5)) (1.0.0)\n",
      "Requirement already satisfied: msgpack<2.0.0,>=1.0.0 in /opt/conda/lib/python3.9/site-packages (from ray>=2.0.0->CFEDemands>=0.4.1->-r requirements.txt (line 5)) (1.0.5)\n",
      "Requirement already satisfied: click>=7.0 in /opt/conda/lib/python3.9/site-packages (from ray>=2.0.0->CFEDemands>=0.4.1->-r requirements.txt (line 5)) (8.0.4)\n",
      "Requirement already satisfied: protobuf!=3.19.5,>=3.15.3 in /opt/conda/lib/python3.9/site-packages (from ray>=2.0.0->CFEDemands>=0.4.1->-r requirements.txt (line 5)) (3.19.6)\n",
      "Requirement already satisfied: virtualenv>=20.0.24 in /opt/conda/lib/python3.9/site-packages (from ray>=2.0.0->CFEDemands>=0.4.1->-r requirements.txt (line 5)) (20.21.0)\n",
      "Requirement already satisfied: frozenlist in /opt/conda/lib/python3.9/site-packages (from ray>=2.0.0->CFEDemands>=0.4.1->-r requirements.txt (line 5)) (1.3.3)\n",
      "Requirement already satisfied: pyyaml in /opt/conda/lib/python3.9/site-packages (from ray>=2.0.0->CFEDemands>=0.4.1->-r requirements.txt (line 5)) (6.0)\n",
      "Requirement already satisfied: jsonschema in /opt/conda/lib/python3.9/site-packages (from ray>=2.0.0->CFEDemands>=0.4.1->-r requirements.txt (line 5)) (4.17.3)\n",
      "Requirement already satisfied: grpcio>=1.32.0 in /opt/conda/lib/python3.9/site-packages (from ray>=2.0.0->CFEDemands>=0.4.1->-r requirements.txt (line 5)) (1.43.0)\n",
      "Requirement already satisfied: aiosignal in /opt/conda/lib/python3.9/site-packages (from ray>=2.0.0->CFEDemands>=0.4.1->-r requirements.txt (line 5)) (1.3.1)\n",
      "Requirement already satisfied: filelock in /opt/conda/lib/python3.9/site-packages (from ray>=2.0.0->CFEDemands>=0.4.1->-r requirements.txt (line 5)) (3.10.7)\n",
      "Requirement already satisfied: patsy>=0.5.2 in /opt/conda/lib/python3.9/site-packages (from statsmodels>=0.13.2->CFEDemands>=0.4.1->-r requirements.txt (line 5)) (0.5.3)\n",
      "Collecting diskcache>=5.2.1\n",
      "  Using cached diskcache-5.6.1-py3-none-any.whl (45 kB)\n",
      "Collecting dvc-objects<1,>=0.21.1\n",
      "  Using cached dvc_objects-0.21.1-py3-none-any.whl (37 kB)\n",
      "Collecting dictdiffer>=0.8.1\n",
      "  Using cached dictdiffer-0.9.0-py2.py3-none-any.whl (16 kB)\n",
      "Collecting nanotime>=0.5.2\n",
      "  Using cached nanotime-0.5.2-py3-none-any.whl\n",
      "Collecting sqltrie<1,>=0.3.1\n",
      "  Using cached sqltrie-0.3.1-py3-none-any.whl (16 kB)\n",
      "Collecting attrs>=19.2.0\n",
      "  Using cached attrs-23.1.0-py3-none-any.whl (61 kB)\n",
      "Requirement already satisfied: fsspec[http] in /opt/conda/lib/python3.9/site-packages (from dvc-http>=2.29.0->dvc>=2.18.1->CFEDemands>=0.4.1->-r requirements.txt (line 5)) (2023.3.0)\n",
      "Collecting aiohttp-retry>=2.5.0\n",
      "  Using cached aiohttp_retry-2.8.3-py3-none-any.whl (9.8 kB)\n",
      "Collecting dulwich\n",
      "  Using cached dulwich-0.21.3-cp39-cp39-manylinux_2_17_x86_64.manylinux2014_x86_64.whl (505 kB)\n",
      "Collecting celery<6,>=5.2.0\n",
      "  Using cached celery-5.2.7-py3-none-any.whl (405 kB)\n",
      "Collecting kombu<6,>=5.2.0\n",
      "  Using cached kombu-5.2.4-py3-none-any.whl (189 kB)\n",
      "Collecting atpublic>=2.3\n",
      "  Using cached atpublic-3.1.1-py3-none-any.whl (4.8 kB)\n",
      "Collecting omegaconf<2.4,>=2.2\n",
      "  Using cached omegaconf-2.3.0-py3-none-any.whl (79 kB)\n",
      "Collecting antlr4-python3-runtime==4.9.*\n",
      "  Using cached antlr4_python3_runtime-4.9.3-py3-none-any.whl\n",
      "Requirement already satisfied: appdirs in /opt/conda/lib/python3.9/site-packages (from iterative-telemetry>=0.0.7->dvc>=2.18.1->CFEDemands>=0.4.1->-r requirements.txt (line 5)) (1.4.4)\n",
      "Requirement already satisfied: certifi>=2017.4.17 in /opt/conda/lib/python3.9/site-packages (from requests>=2.22->dvc>=2.18.1->CFEDemands>=0.4.1->-r requirements.txt (line 5)) (2021.10.8)\n",
      "Requirement already satisfied: idna<4,>=2.5 in /opt/conda/lib/python3.9/site-packages (from requests>=2.22->dvc>=2.18.1->CFEDemands>=0.4.1->-r requirements.txt (line 5)) (3.1)\n",
      "Requirement already satisfied: urllib3<1.27,>=1.21.1 in /opt/conda/lib/python3.9/site-packages (from requests>=2.22->dvc>=2.18.1->CFEDemands>=0.4.1->-r requirements.txt (line 5)) (1.26.7)\n",
      "Requirement already satisfied: charset-normalizer~=2.0.0 in /opt/conda/lib/python3.9/site-packages (from requests>=2.22->dvc>=2.18.1->CFEDemands>=0.4.1->-r requirements.txt (line 5)) (2.0.0)\n",
      "Requirement already satisfied: oauthlib>=3.0.0 in /opt/conda/lib/python3.9/site-packages (from requests-oauthlib>=0.7.0->google-auth-oauthlib>=0.4.1->gspread>=5.0.1->-r requirements.txt (line 7)) (3.2.2)\n",
      "Requirement already satisfied: pygments<3.0.0,>=2.13.0 in /opt/conda/lib/python3.9/site-packages (from rich>=12->dvc>=2.18.1->CFEDemands>=0.4.1->-r requirements.txt (line 5)) (2.14.0)\n",
      "Requirement already satisfied: markdown-it-py<3.0.0,>=2.2.0 in /opt/conda/lib/python3.9/site-packages (from rich>=12->dvc>=2.18.1->CFEDemands>=0.4.1->-r requirements.txt (line 5)) (2.2.0)\n",
      "Requirement already satisfied: ruamel.yaml.clib>=0.2.6 in /opt/conda/lib/python3.9/site-packages (from ruamel.yaml>=0.17.11->dvc>=2.18.1->CFEDemands>=0.4.1->-r requirements.txt (line 5)) (0.2.7)\n",
      "Collecting pygit2>=1.10.0\n",
      "  Using cached pygit2-1.12.0-cp39-cp39-manylinux_2_17_x86_64.manylinux2014_x86_64.whl (4.9 MB)\n",
      "Collecting gitpython>3\n",
      "  Using cached GitPython-3.1.31-py3-none-any.whl (184 kB)\n",
      "Collecting asyncssh<3,>=2.13.1\n",
      "  Using cached asyncssh-2.13.1-py3-none-any.whl (348 kB)\n",
      "Requirement already satisfied: distlib<1,>=0.3.6 in /opt/conda/lib/python3.9/site-packages (from virtualenv>=20.0.24->ray>=2.0.0->CFEDemands>=0.4.1->-r requirements.txt (line 5)) (0.3.6)\n",
      "Requirement already satisfied: setuptools in /opt/conda/lib/python3.9/site-packages (from zc.lockfile>=1.2.1->dvc>=2.18.1->CFEDemands>=0.4.1->-r requirements.txt (line 5)) (67.6.1)\n",
      "Requirement already satisfied: pyrsistent!=0.17.0,!=0.17.1,!=0.17.2,>=0.14.0 in /opt/conda/lib/python3.9/site-packages (from jsonschema->ray>=2.0.0->CFEDemands>=0.4.1->-r requirements.txt (line 5)) (0.19.3)\n",
      "Requirement already satisfied: aiohttp in /opt/conda/lib/python3.9/site-packages (from aiohttp-retry>=2.5.0->dvc-http>=2.29.0->dvc>=2.18.1->CFEDemands>=0.4.1->-r requirements.txt (line 5)) (3.8.4)\n",
      "Requirement already satisfied: typing-extensions>=3.6 in /opt/conda/lib/python3.9/site-packages (from asyncssh<3,>=2.13.1->scmrepo<2,>=1.0.0->dvc>=2.18.1->CFEDemands>=0.4.1->-r requirements.txt (line 5)) (4.5.0)\n",
      "Requirement already satisfied: cryptography>=3.1 in /opt/conda/lib/python3.9/site-packages (from asyncssh<3,>=2.13.1->scmrepo<2,>=1.0.0->dvc>=2.18.1->CFEDemands>=0.4.1->-r requirements.txt (line 5)) (3.4.8)\n",
      "Requirement already satisfied: click-plugins>=1.1.1 in /opt/conda/lib/python3.9/site-packages (from celery<6,>=5.2.0->dvc-task<1,>=0.2.0->dvc>=2.18.1->CFEDemands>=0.4.1->-r requirements.txt (line 5)) (1.1.1)\n",
      "Collecting billiard<4.0,>=3.6.4.0\n",
      "  Using cached billiard-3.6.4.0-py3-none-any.whl (89 kB)\n",
      "Collecting pytz>=2020.1\n",
      "  Using cached pytz-2023.3-py2.py3-none-any.whl (502 kB)\n",
      "Collecting vine<6.0,>=5.0.0\n",
      "  Using cached vine-5.0.0-py2.py3-none-any.whl (9.4 kB)\n",
      "Collecting click-repl>=0.2.0\n",
      "  Using cached click_repl-0.2.0-py3-none-any.whl (5.2 kB)\n",
      "Collecting click-didyoumean>=0.0.3\n",
      "  Using cached click_didyoumean-0.3.0-py3-none-any.whl (2.7 kB)\n",
      "Collecting gitdb<5,>=4.0.1\n",
      "  Using cached gitdb-4.0.10-py3-none-any.whl (62 kB)\n",
      "Collecting amqp<6.0.0,>=5.0.9\n",
      "  Using cached amqp-5.1.1-py3-none-any.whl (50 kB)\n",
      "Requirement already satisfied: mdurl~=0.1 in /opt/conda/lib/python3.9/site-packages (from markdown-it-py<3.0.0,>=2.2.0->rich>=12->dvc>=2.18.1->CFEDemands>=0.4.1->-r requirements.txt (line 5)) (0.1.2)\n"
     ]
    },
    {
     "name": "stdout",
     "output_type": "stream",
     "text": [
      "Requirement already satisfied: cffi>=1.9.1 in /opt/conda/lib/python3.9/site-packages (from pygit2>=1.10.0->scmrepo<2,>=1.0.0->dvc>=2.18.1->CFEDemands>=0.4.1->-r requirements.txt (line 5)) (1.14.6)\n",
      "Collecting orjson\n",
      "  Using cached orjson-3.8.10-cp39-cp39-manylinux_2_28_x86_64.whl (140 kB)\n",
      "Requirement already satisfied: multidict<7.0,>=4.5 in /opt/conda/lib/python3.9/site-packages (from aiohttp->aiohttp-retry>=2.5.0->dvc-http>=2.29.0->dvc>=2.18.1->CFEDemands>=0.4.1->-r requirements.txt (line 5)) (6.0.4)\n",
      "Requirement already satisfied: yarl<2.0,>=1.0 in /opt/conda/lib/python3.9/site-packages (from aiohttp->aiohttp-retry>=2.5.0->dvc-http>=2.29.0->dvc>=2.18.1->CFEDemands>=0.4.1->-r requirements.txt (line 5)) (1.8.2)\n",
      "Requirement already satisfied: async-timeout<5.0,>=4.0.0a3 in /opt/conda/lib/python3.9/site-packages (from aiohttp->aiohttp-retry>=2.5.0->dvc-http>=2.29.0->dvc>=2.18.1->CFEDemands>=0.4.1->-r requirements.txt (line 5)) (4.0.2)\n",
      "Requirement already satisfied: pycparser in /opt/conda/lib/python3.9/site-packages (from cffi>=1.9.1->pygit2>=1.10.0->scmrepo<2,>=1.0.0->dvc>=2.18.1->CFEDemands>=0.4.1->-r requirements.txt (line 5)) (2.20)\n",
      "Requirement already satisfied: prompt-toolkit in /opt/conda/lib/python3.9/site-packages (from click-repl>=0.2.0->celery<6,>=5.2.0->dvc-task<1,>=0.2.0->dvc>=2.18.1->CFEDemands>=0.4.1->-r requirements.txt (line 5)) (3.0.38)\n",
      "Collecting smmap<6,>=3.0.1\n",
      "  Using cached smmap-5.0.0-py3-none-any.whl (24 kB)\n",
      "Requirement already satisfied: wcwidth in /opt/conda/lib/python3.9/site-packages (from prompt-toolkit->click-repl>=0.2.0->celery<6,>=5.2.0->dvc-task<1,>=0.2.0->dvc>=2.18.1->CFEDemands>=0.4.1->-r requirements.txt (line 5)) (0.2.6)\n",
      "Installing collected packages: voluptuous, pytz, python-gnupg, pygtrie, nanotime, funcy, eep153_tools, dictdiffer, ConsumerDemands, billiard, antlr4-python3-runtime, zc.lockfile, vine, tzdata, tqdm, tomlkit, smmap, shtab, shortuuid, python-dateutil, pydot, pathspec, orjson, omegaconf, joblib, grandalf, flatten-dict, dvc-render, dulwich, dpath, distro, diskcache, configobj, click-didyoumean, attrs, atpublic, sqltrie, rich, pygit2, pandas, oauth2client, iterative-telemetry, hydra-core, gitdb, flufl.lock, dvc-studio-client, dvc-objects, click-repl, amqp, xarray, ray, kombu, gitpython, dvc-data, asyncssh, aiohttp-retry, scmrepo, gspread, dvc-http, celery, gspread_pandas, dvc-task, dvc, CFEDemands\n",
      "  Attempting uninstall: pytz\n",
      "    Found existing installation: pytz 2021.1\n",
      "    Uninstalling pytz-2021.1:\n",
      "      Successfully uninstalled pytz-2021.1\n",
      "  Attempting uninstall: tqdm\n",
      "    Found existing installation: tqdm 4.62.1\n",
      "    Uninstalling tqdm-4.62.1:\n",
      "      Successfully uninstalled tqdm-4.62.1\n",
      "  Attempting uninstall: python-dateutil\n",
      "    Found existing installation: python-dateutil 2.8.0\n",
      "    Uninstalling python-dateutil-2.8.0:\n",
      "      Successfully uninstalled python-dateutil-2.8.0\n",
      "  Attempting uninstall: pathspec\n",
      "    Found existing installation: pathspec 0.9.0\n",
      "    Uninstalling pathspec-0.9.0:\n",
      "      Successfully uninstalled pathspec-0.9.0\n",
      "  Attempting uninstall: joblib\n",
      "    Found existing installation: joblib 1.0.1\n",
      "    Uninstalling joblib-1.0.1:\n",
      "      Successfully uninstalled joblib-1.0.1\n",
      "  Attempting uninstall: attrs\n",
      "    Found existing installation: attrs 19.3.0\n",
      "    Uninstalling attrs-19.3.0:\n",
      "      Successfully uninstalled attrs-19.3.0\n",
      "  Attempting uninstall: pandas\n",
      "    Found existing installation: pandas 1.3.5\n",
      "    Uninstalling pandas-1.3.5:\n",
      "      Successfully uninstalled pandas-1.3.5\n",
      "  Attempting uninstall: xarray\n",
      "    Found existing installation: xarray 0.19.0\n",
      "    Uninstalling xarray-0.19.0:\n",
      "      Successfully uninstalled xarray-0.19.0\n",
      "  Attempting uninstall: ray\n",
      "    Found existing installation: ray 1.13.0\n",
      "    Uninstalling ray-1.13.0:\n",
      "      Successfully uninstalled ray-1.13.0\n",
      "  Attempting uninstall: gspread\n",
      "    Found existing installation: gspread 4.0.1\n",
      "    Uninstalling gspread-4.0.1:\n",
      "      Successfully uninstalled gspread-4.0.1\n",
      "  Attempting uninstall: gspread_pandas\n",
      "    Found existing installation: gspread-pandas 2.3.0\n",
      "    Uninstalling gspread-pandas-2.3.0:\n",
      "      Successfully uninstalled gspread-pandas-2.3.0\n",
      "\u001b[31mERROR: pip's dependency resolver does not currently take into account all the packages that are installed. This behaviour is the source of the following dependency conflicts.\n",
      "pysal 2.5.0 requires python-dateutil<=2.8.0, but you have python-dateutil 2.8.2 which is incompatible.\n",
      "dbt-core 1.3.0 requires pathspec~=0.9.0, but you have pathspec 0.11.1 which is incompatible.\n",
      "datasets 2.2.1 requires pyarrow>=6.0.0, but you have pyarrow 5.0.0 which is incompatible.\n",
      "ast-scope 0.3.1 requires attrs==19.3.0, but you have attrs 23.1.0 which is incompatible.\u001b[0m\u001b[31m\n",
      "\u001b[0mSuccessfully installed CFEDemands-0.5.4 ConsumerDemands-0.4.1.dev0 aiohttp-retry-2.8.3 amqp-5.1.1 antlr4-python3-runtime-4.9.3 asyncssh-2.13.1 atpublic-3.1.1 attrs-23.1.0 billiard-3.6.4.0 celery-5.2.7 click-didyoumean-0.3.0 click-repl-0.2.0 configobj-5.0.8 dictdiffer-0.9.0 diskcache-5.6.1 distro-1.8.0 dpath-2.1.5 dulwich-0.21.3 dvc-2.55.0 dvc-data-0.47.2 dvc-http-2.30.2 dvc-objects-0.21.1 dvc-render-0.3.1 dvc-studio-client-0.8.0 dvc-task-0.2.0 eep153_tools-0.11 flatten-dict-0.4.2 flufl.lock-7.1.1 funcy-2.0 gitdb-4.0.10 gitpython-3.1.31 grandalf-0.8 gspread-5.8.0 gspread_pandas-3.2.2 hydra-core-1.3.2 iterative-telemetry-0.0.8 joblib-1.2.0 kombu-5.2.4 nanotime-0.5.2 oauth2client-4.1.3 omegaconf-2.3.0 orjson-3.8.10 pandas-2.0.0 pathspec-0.11.1 pydot-1.4.2 pygit2-1.12.0 pygtrie-2.5.0 python-dateutil-2.8.2 python-gnupg-0.5.0 pytz-2023.3 ray-2.3.1 rich-13.3.4 scmrepo-1.0.2 shortuuid-1.0.11 shtab-1.6.1 smmap-5.0.0 sqltrie-0.3.1 tomlkit-0.11.7 tqdm-4.65.0 tzdata-2023.3 vine-5.0.0 voluptuous-0.13.1 xarray-2023.4.1 zc.lockfile-3.0.post1\n"
     ]
    }
   ],
   "source": [
    "!pip install -r requirements.txt"
   ]
  },
  {
   "cell_type": "code",
   "execution_count": 2,
   "metadata": {},
   "outputs": [
    {
     "name": "stdout",
     "output_type": "stream",
     "text": [
      "Missing dependencies for OracleDemands.\n"
     ]
    }
   ],
   "source": [
    "import pandas as pd\n",
    "import cfe.regression as rgsn"
   ]
  },
  {
   "cell_type": "markdown",
   "metadata": {},
   "source": [
    "### Data\n",
    "\n"
   ]
  },
  {
   "cell_type": "markdown",
   "metadata": {},
   "source": [
    "We&rsquo;ll get data from two places.  First, basic data, including a food\n",
    " conversion table and recommended daily intakes table can be found in\n",
    " a google spreadsheet.\n",
    "\n",
    "Here are addresses of google sheets for different dataframes for the\n",
    "case of [REGION]:\n",
    "\n"
   ]
  },
  {
   "cell_type": "code",
   "execution_count": 38,
   "metadata": {},
   "outputs": [],
   "source": [
    "# TODO: delete these lines once figured out how to get expenditures, prices, and HH Characteristics from pickle\n",
    "\n",
    "# InputFiles = {'Expenditures':('1yVLriVpo7KGUXvR3hq_n53XpXlD5NmLaH1oOMZyV0gQ','Expenditures (2019-20)'),\n",
    "#               'Prices':('1yVLriVpo7KGUXvR3hq_n53XpXlD5NmLaH1oOMZyV0gQ','Prices'),\n",
    "#               'HH Characteristics':('1yVLriVpo7KGUXvR3hq_n53XpXlD5NmLaH1oOMZyV0gQ','HH Characteristics'),\n",
    "#               'FCT':('1yVLriVpo7KGUXvR3hq_n53XpXlD5NmLaH1oOMZyV0gQ','FCT'),\n",
    "#               'RDI':('1yVLriVpo7KGUXvR3hq_n53XpXlD5NmLaH1oOMZyV0gQ','RDI'),}\n",
    "\n",
    "InputFiles = {'FCT':('13Ig5hZif-NSHtgkKRp_cEgKXk0lOsdUB2BAD6O_FnRo','FCT'),\n",
    "              'RDI':('13Ig5hZif-NSHtgkKRp_cEgKXk0lOsdUB2BAD6O_FnRo','RDI'),}"
   ]
  },
  {
   "cell_type": "markdown",
   "metadata": {},
   "source": [
    "#### Prices, FCT, RDI\n",
    "\n"
   ]
  },
  {
   "cell_type": "code",
   "execution_count": 39,
   "metadata": {},
   "outputs": [
    {
     "name": "stdout",
     "output_type": "stream",
     "text": [
      "Key available for students@eep153.iam.gserviceaccount.com.\n",
      "Key available for students@eep153.iam.gserviceaccount.com.\n"
     ]
    }
   ],
   "source": [
    "from eep153_tools.sheets import read_sheets\n",
    "import numpy as np\n",
    "import pandas as pd\n",
    "\n",
    "def get_clean_sheet(key,sheet=None):\n",
    "\n",
    "    df = read_sheets(key,sheet=sheet)\n",
    "    df.columns = [c.strip() for c in df.columns.tolist()]\n",
    "\n",
    "    df = df.loc[:,~df.columns.duplicated(keep='first')]\n",
    "\n",
    "    df = df.drop([col for col in df.columns if col.startswith('Unnamed')], axis=1)\n",
    "\n",
    "    df = df.loc[~df.index.duplicated(), :]\n",
    "\n",
    "    return df\n",
    "\n",
    "# TODO: delete these lines once figured out how to get expenditures, prices, and HH Characteristics from pickle\n",
    "\n",
    "# # Get prices\n",
    "# p = get_clean_sheet(InputFiles['Prices'][0],\n",
    "#                     sheet=InputFiles['Prices'][1])\n",
    "\n",
    "# if 'm' not in p.columns:  # Supply \"market\" indicator if missing\n",
    "#     p['m'] = 1\n",
    "\n",
    "# p = p.set_index(['t','m'])\n",
    "# p.columns.name = 'j'\n",
    "\n",
    "# p = p.apply(lambda x: pd.to_numeric(x,errors='coerce'))\n",
    "# p = p.replace(0,np.nan)\n",
    "\n",
    "fct = get_clean_sheet(InputFiles['FCT'][0],\n",
    "                    sheet=InputFiles['FCT'][1])\n",
    "\n",
    "fct = fct.set_index('j')\n",
    "fct.columns.name = 'n'\n",
    "\n",
    "fct = fct.apply(lambda x: pd.to_numeric(x,errors='coerce'))\n",
    "\n",
    "################## RDI, if available (consider using US) #####################\n",
    "rdi = get_clean_sheet(InputFiles['RDI'][0],\n",
    "                    sheet=InputFiles['RDI'][1])\n",
    "rdi = rdi.set_index('n')\n",
    "rdi.columns.name = 'k'"
   ]
  },
  {
   "cell_type": "code",
   "execution_count": 49,
   "metadata": {},
   "outputs": [
    {
     "data": {
      "text/html": [
       "<div>\n",
       "<style scoped>\n",
       "    .dataframe tbody tr th:only-of-type {\n",
       "        vertical-align: middle;\n",
       "    }\n",
       "\n",
       "    .dataframe tbody tr th {\n",
       "        vertical-align: top;\n",
       "    }\n",
       "\n",
       "    .dataframe thead th {\n",
       "        text-align: right;\n",
       "    }\n",
       "</style>\n",
       "<table border=\"1\" class=\"dataframe\">\n",
       "  <thead>\n",
       "    <tr style=\"text-align: right;\">\n",
       "      <th></th>\n",
       "      <th>p</th>\n",
       "    </tr>\n",
       "    <tr>\n",
       "      <th>i</th>\n",
       "      <th></th>\n",
       "    </tr>\n",
       "  </thead>\n",
       "  <tbody>\n",
       "    <tr>\n",
       "      <th>apple</th>\n",
       "      <td>11.111111</td>\n",
       "    </tr>\n",
       "    <tr>\n",
       "      <th>arhar (tur)</th>\n",
       "      <td>15.384615</td>\n",
       "    </tr>\n",
       "    <tr>\n",
       "      <th>baby food</th>\n",
       "      <td>3.846154</td>\n",
       "    </tr>\n",
       "    <tr>\n",
       "      <th>bajra &amp; products</th>\n",
       "      <td>83.333333</td>\n",
       "    </tr>\n",
       "    <tr>\n",
       "      <th>banana</th>\n",
       "      <td>0.483333</td>\n",
       "    </tr>\n",
       "    <tr>\n",
       "      <th>...</th>\n",
       "      <td>...</td>\n",
       "    </tr>\n",
       "    <tr>\n",
       "      <th>walnut</th>\n",
       "      <td>3.333333</td>\n",
       "    </tr>\n",
       "    <tr>\n",
       "      <th>watermelon</th>\n",
       "      <td>75.000000</td>\n",
       "    </tr>\n",
       "    <tr>\n",
       "      <th>wheat/atta - P.D.S.</th>\n",
       "      <td>151.515152</td>\n",
       "    </tr>\n",
       "    <tr>\n",
       "      <th>wheat/atta - other sources</th>\n",
       "      <td>62.500000</td>\n",
       "    </tr>\n",
       "    <tr>\n",
       "      <th>zarda,kimam,surti</th>\n",
       "      <td>2.857143</td>\n",
       "    </tr>\n",
       "  </tbody>\n",
       "</table>\n",
       "<p>164 rows × 1 columns</p>\n",
       "</div>"
      ],
      "text/plain": [
       "                                     p\n",
       "i                                     \n",
       "apple                        11.111111\n",
       "arhar (tur)                  15.384615\n",
       "baby food                     3.846154\n",
       "bajra & products             83.333333\n",
       "banana                        0.483333\n",
       "...                                ...\n",
       "walnut                        3.333333\n",
       "watermelon                   75.000000\n",
       "wheat/atta - P.D.S.         151.515152\n",
       "wheat/atta - other sources   62.500000\n",
       "zarda,kimam,surti             2.857143\n",
       "\n",
       "[164 rows x 1 columns]"
      ]
     },
     "execution_count": 49,
     "metadata": {},
     "output_type": "execute_result"
    }
   ],
   "source": [
    "import pyarrow.parquet as pq\n",
    "\n",
    "# Get prices \n",
    "p = pq.read_table(source='ap68_prices.parquet').to_pandas()\n",
    "p.reset_index(level='unit', drop=True, inplace=True)\n",
    "p"
   ]
  },
  {
   "cell_type": "markdown",
   "metadata": {},
   "source": [
    "#### Pre-estimated Demand Systems\n",
    "\n"
   ]
  },
  {
   "cell_type": "markdown",
   "metadata": {},
   "source": [
    "An instance `r` of `cfe.Regression` can be made persistent with\n",
    " `r.to_pickle('my_result.pickle')`, which saves the instance &ldquo;on disk&rdquo;, and can be loaded using `cfe.regression.read_pickle`.  We use  this method below to load data and demand system previously estimated for [REGION]:\n",
    "\n"
   ]
  },
  {
   "cell_type": "code",
   "execution_count": 41,
   "metadata": {},
   "outputs": [],
   "source": [
    "r = rgsn.read_pickle('ap68.pickle')  # Assumes you've already set this up e.g., in Project 3"
   ]
  },
  {
   "cell_type": "markdown",
   "metadata": {},
   "source": [
    "#### Reference Prices\n",
    "\n"
   ]
  },
  {
   "cell_type": "markdown",
   "metadata": {},
   "source": [
    "Choose reference prices.  Here we&rsquo;ll choose a particular year, and average prices across markets.  If you wanted to focus on particular market you&rsquo;d do this differently.\n"
   ]
  },
  {
   "cell_type": "code",
   "execution_count": 55,
   "metadata": {},
   "outputs": [
    {
     "data": {
      "text/plain": [
       "j\n",
       "banana                          0.483333\n",
       "bidi                            3.000000\n",
       "brinjal                        55.555556\n",
       "cabbage                        62.500000\n",
       "chillis (green)                25.000000\n",
       "cigarettes                      0.333333\n",
       "dry chillies                    8.333333\n",
       "eggs                            0.285714\n",
       "electricity                     0.333333\n",
       "firewood & chips              333.333333\n",
       "garlic                         12.500000\n",
       "ginger                         20.000000\n",
       "kerosene-other sources         33.333333\n",
       "lady's finger                  45.454545\n",
       "matches                         1.000000\n",
       "milk: liquid                   40.000000\n",
       "moong                          14.285714\n",
       "onion                          66.666667\n",
       "other spices                    5.000000\n",
       "potato                         83.333333\n",
       "rice - other sources           48.780488\n",
       "salt                           93.750000\n",
       "sugar - other sources          30.303030\n",
       "tea : cups                      0.219178\n",
       "tea : leaf                      5.000000\n",
       "tomato                         54.545455\n",
       "turmeric                        5.681818\n",
       "wheat/atta - other sources     62.500000\n",
       "Name: p, dtype: float64"
      ]
     },
     "execution_count": 55,
     "metadata": {},
     "output_type": "execute_result"
    }
   ],
   "source": [
    "# Reference prices chosen from a particular time; average across place.\n",
    "# These are prices per kilogram:\n",
    "pbar = p # Prof Ligon provided what are presumably already average prices \n",
    "pbar = pbar.loc[r.beta.index] # Only use prices for goods we can estimate\n",
    "pbar = pbar.iloc[:,0]\n",
    "pbar"
   ]
  },
  {
   "cell_type": "markdown",
   "metadata": {},
   "source": [
    "#### Budgets\n",
    "\n"
   ]
  },
  {
   "cell_type": "markdown",
   "metadata": {},
   "source": [
    "Get food budget for all households, then find median budget:\n",
    "\n"
   ]
  },
  {
   "cell_type": "code",
   "execution_count": 1,
   "metadata": {},
   "outputs": [],
   "source": [
    "import numpy as np\n",
    "\n",
    "xhat = r.predicted_expenditures()\n",
    "\n",
    "# Total food expenditures per household\n",
    "xbar = xhat.groupby(['i','t','m']).sum()\n",
    "\n",
    "# Reference budget\n",
    "xref = xbar.quantile(0.5)  # Household at 0.5 quantile is median"
   ]
  },
  {
   "cell_type": "markdown",
   "metadata": {},
   "source": [
    "#### Food Quantities\n",
    "\n"
   ]
  },
  {
   "cell_type": "markdown",
   "metadata": {},
   "source": [
    "Get quantities of food by dividing expenditures by prices:\n",
    "\n"
   ]
  },
  {
   "cell_type": "code",
   "execution_count": 1,
   "metadata": {},
   "outputs": [],
   "source": [
    "qhat = (xhat.unstack('j')/pbar).dropna(how='all')\n",
    "\n",
    "# Drop missing columns\n",
    "qhat = qhat.loc[:,qhat.count()>0]\n",
    "\n",
    "qhat"
   ]
  },
  {
   "cell_type": "markdown",
   "metadata": {},
   "source": [
    "Finally, define a function to change a single price in the vector $p$:\n",
    "\n"
   ]
  },
  {
   "cell_type": "code",
   "execution_count": 1,
   "metadata": {},
   "outputs": [],
   "source": [
    "def my_prices(p0,p=pbar,j='Millet'):\n",
    "    \"\"\"\n",
    "    Change price of jth good to p0, holding other prices fixed.\n",
    "    \"\"\"\n",
    "    p = p.copy()\n",
    "    p.loc[j] = p0\n",
    "    return p"
   ]
  },
  {
   "cell_type": "markdown",
   "metadata": {},
   "source": [
    "### Demands\n",
    "\n"
   ]
  },
  {
   "cell_type": "markdown",
   "metadata": {},
   "source": [
    "#### Demand functions\n",
    "\n"
   ]
  },
  {
   "cell_type": "code",
   "execution_count": 1,
   "metadata": {},
   "outputs": [],
   "source": [
    "import matplotlib.pyplot as plt\n",
    "%matplotlib notebook\n",
    "\n",
    "use = 'Millet'  # Good we want demand curve for\n",
    "\n",
    "# Vary prices from 50% to 200% of reference.\n",
    "scale = np.linspace(.5,2,20)\n",
    "\n",
    "# Demand for Millet for household at median budget\n",
    "plt.plot([r.demands(xref,my_prices(pbar[use]*s,pbar))[use] for s in scale],scale)\n",
    "\n",
    "# Demand for Millet for household at 25% percentile\n",
    "plt.plot([r.demands(xbar.quantile(0.25),my_prices(pbar[use]*s,pbar))[use] for s in scale],scale)\n",
    "\n",
    "# Demand for Millet for household at 75% percentile\n",
    "plt.plot([r.demands(xbar.quantile(0.75),my_prices(pbar[use]*s,pbar))[use] for s in scale],scale)\n",
    "\n",
    "plt.ylabel(f\"Price (relative to base of {pbar[use]:.2f})\")\n",
    "plt.xlabel(f\"Quantities of {use} Demanded\")"
   ]
  },
  {
   "cell_type": "markdown",
   "metadata": {},
   "source": [
    "#### Engel Curves\n",
    "\n"
   ]
  },
  {
   "cell_type": "code",
   "execution_count": 1,
   "metadata": {},
   "outputs": [],
   "source": [
    "fig,ax = plt.subplots()\n",
    "\n",
    "scale = np.geomspace(.01,10,50)\n",
    "\n",
    "ax.plot(np.log(scale*xref),[r.expenditures(s*xref,pbar)/(s*xref) for s in scale])\n",
    "ax.set_xlabel(f'log budget (relative to base of {xref:.0f})')\n",
    "ax.set_ylabel(f'Expenditure share')\n",
    "ax.set_title('Engel Curves')"
   ]
  },
  {
   "cell_type": "markdown",
   "metadata": {},
   "source": [
    "### Mapping to Nutrients\n",
    "\n"
   ]
  },
  {
   "cell_type": "markdown",
   "metadata": {},
   "source": [
    "We&rsquo;ve seen how to map prices and budgets into vectors of consumption\n",
    " quantities using `cfe.Regression.demands`.  Next we want to think about\n",
    " how to map these into bundles of *nutrients*.  The information needed\n",
    " for the mapping comes from a &ldquo;Food Conversion Table&rdquo; (or database,\n",
    " such as the [USDA Food Data Central](https://fdc.nal.usda.gov/)).    We&rsquo;ve already grabbed an FCT, let&rsquo;s take a look:\n",
    "\n"
   ]
  },
  {
   "cell_type": "code",
   "execution_count": 1,
   "metadata": {},
   "outputs": [],
   "source": [
    "fct"
   ]
  },
  {
   "cell_type": "markdown",
   "metadata": {},
   "source": [
    "We need the index of the Food Conversion Table (FCT) to match up with\n",
    " the index of the vector of quantities demanded.   To manage this we\n",
    " make use of the `align` method for `pd.DataFrames`:\n",
    "\n"
   ]
  },
  {
   "cell_type": "code",
   "execution_count": 1,
   "metadata": {},
   "outputs": [],
   "source": [
    "# Create a new FCT and vector of consumption that only share rows in common:\n",
    "fct0,c0 = fct.align(qhat.T,axis=0,join='inner')\n",
    "print(fct0.index)"
   ]
  },
  {
   "cell_type": "markdown",
   "metadata": {},
   "source": [
    "Now, since rows of `fct0` and `c0` match, we can obtain nutritional\n",
    " outcomes from the inner (or dot, or matrix) product of the transposed\n",
    " `fct0` and `c0`:\n",
    "\n"
   ]
  },
  {
   "cell_type": "code",
   "execution_count": 1,
   "metadata": {},
   "outputs": [],
   "source": [
    "# The @ operator means matrix multiply\n",
    "N = fct0.T@c0\n",
    "\n",
    "N  #NB: Uganda quantities are for previous 7 days"
   ]
  },
  {
   "cell_type": "markdown",
   "metadata": {},
   "source": [
    "Of course, since we can compute the nutritional content of a vector of\n",
    " consumption goods `c0`, we can also use our demand functions to\n",
    " compute nutrition as a *function* of prices and budget.\n",
    "\n"
   ]
  },
  {
   "cell_type": "code",
   "execution_count": 1,
   "metadata": {},
   "outputs": [],
   "source": [
    "def nutrient_demand(x,p):\n",
    "    c = r.demands(x,p)\n",
    "    fct0,c0 = fct.align(c,axis=0,join='inner')\n",
    "    N = fct0.T@c0\n",
    "\n",
    "    N = N.loc[~N.index.duplicated()]\n",
    "    \n",
    "    return N"
   ]
  },
  {
   "cell_type": "markdown",
   "metadata": {},
   "source": [
    "With this `nutrient_demand` function in hand, we can see how nutrient\n",
    " outcomes vary with budget, given prices:\n",
    "\n"
   ]
  },
  {
   "cell_type": "code",
   "execution_count": 1,
   "metadata": {},
   "outputs": [],
   "source": [
    "import numpy as np\n",
    "import matplotlib.pyplot as plt\n",
    "\n",
    "X = np.linspace(xref/5,xref*5,50)\n",
    "\n",
    "UseNutrients = ['Protein','Energy','Iron','Calcium','Vitamin C']\n",
    "\n",
    "df = pd.concat({myx:np.log(nutrient_demand(myx,pbar))[UseNutrients] for myx in X},axis=1).T\n",
    "ax = df.plot()\n",
    "\n",
    "ax.set_xlabel('log budget')\n",
    "ax.set_ylabel('log nutrient')"
   ]
  },
  {
   "cell_type": "markdown",
   "metadata": {},
   "source": [
    "Now how does nutrition vary with prices?\n",
    "\n"
   ]
  },
  {
   "cell_type": "code",
   "execution_count": 1,
   "metadata": {},
   "outputs": [],
   "source": [
    "USE_GOOD = 'Oranges'\n",
    "\n",
    "scale = np.geomspace(.01,10,50)\n",
    "\n",
    "ndf = pd.DataFrame({s:np.log(nutrient_demand(xref/2,my_prices(pbar[USE_GOOD]*s,j=USE_GOOD)))[UseNutrients] for s in scale}).T\n",
    "\n",
    "ax = ndf.plot()\n",
    "\n",
    "ax.set_xlabel('log price')\n",
    "ax.set_ylabel('log nutrient')"
   ]
  },
  {
   "cell_type": "markdown",
   "metadata": {},
   "source": [
    "### Nutritional Needs of Households\n",
    "\n"
   ]
  },
  {
   "cell_type": "markdown",
   "metadata": {},
   "source": [
    "Our data on demand and nutrients is at the *household* level; we\n",
    "   can&rsquo;t directly compare household level nutrition with individual\n",
    "   level requirements.  What we **can** do is add up minimum individual\n",
    "   requirements, and see whether household total exceed these.  This\n",
    "   isn&rsquo;t a guarantee that all individuals have adequate nutrition\n",
    "   (since the way food is allocated in the household might be quite\n",
    "   unequal, or unrelated to individual requirements), but it is\n",
    "   *necessary* if all individuals are to have adequate nutrition.\n",
    "\n",
    "For the average household in our data, the number of\n",
    "different kinds of people can be computed by averaging over households:\n",
    "\n"
   ]
  },
  {
   "cell_type": "code",
   "execution_count": 1,
   "metadata": {},
   "outputs": [],
   "source": [
    "# In first round, averaged over households and villages\n",
    "dbar = r.d.mean().iloc[:-2]"
   ]
  },
  {
   "cell_type": "markdown",
   "metadata": {},
   "source": [
    "Now, the inner/dot/matrix product between `dbar` and the `rdi`\n",
    "DataFrame of requirements will give us minimum requirements for the\n",
    "average household:\n",
    "\n"
   ]
  },
  {
   "cell_type": "code",
   "execution_count": 1,
   "metadata": {},
   "outputs": [],
   "source": [
    "# This matrix product gives minimum nutrient requirements for\n",
    "# the average household\n",
    "hh_rdi = rdi.replace('',0)@dbar\n",
    "\n",
    "hh_rdi"
   ]
  },
  {
   "cell_type": "markdown",
   "metadata": {},
   "source": [
    "## Nutritional Adequacy of Food Demands\n",
    "\n"
   ]
  },
  {
   "cell_type": "markdown",
   "metadata": {},
   "source": [
    "Since we can trace out demands for nutrients as a function of $(x,p)$,\n",
    "and we&rsquo;ve computed minimum nutritional requirements for the average\n",
    "household, we can *normalize* nutritional intake to check the adequacy\n",
    "of diet for a household with counts of different kinds of people given by `z`.\n",
    "\n"
   ]
  },
  {
   "cell_type": "code",
   "execution_count": 1,
   "metadata": {},
   "outputs": [],
   "source": [
    "def nutrient_adequacy_ratio(x,p,d,rdi=rdi,days=7):\n",
    "    hh_rdi = rdi.replace('',0)@d*days\n",
    "\n",
    "    return nutrient_demand(x,p)/hh_rdi"
   ]
  },
  {
   "cell_type": "markdown",
   "metadata": {},
   "source": [
    "In terms of normalized nutrients, any household with more than one\n",
    "unit of any given nutrient (or zero in logs) will be consuming a\n",
    "minimally adequate level of the nutrient; below this level there&rsquo;s\n",
    "clearly nutritional inadequacy.  For this reason the ratio of\n",
    "actual nutrients to required nutrients is termed the &ldquo;nutrient\n",
    "adequacy ratio,&rdquo; or NAR.\n",
    "\n"
   ]
  },
  {
   "cell_type": "code",
   "execution_count": 1,
   "metadata": {},
   "outputs": [],
   "source": [
    "X = np.geomspace(.01*xref,2*xref,100)\n",
    "\n",
    "pd.DataFrame({x:np.log(nutrient_adequacy_ratio(x,pbar,dbar))[UseNutrients] for x in X}).T.plot()\n",
    "plt.legend(UseNutrients)\n",
    "plt.xlabel('budget')\n",
    "plt.ylabel('log nutrient adequacy ratio')\n",
    "plt.axhline(0)\n",
    "plt.axvline(xref)"
   ]
  },
  {
   "cell_type": "markdown",
   "metadata": {},
   "source": [
    "As before, we can also vary relative prices.  Here we trace out\n",
    "nutritional adequacy varying the price of a single good:\n",
    "\n"
   ]
  },
  {
   "cell_type": "code",
   "execution_count": 1,
   "metadata": {},
   "outputs": [],
   "source": [
    "scale = np.geomspace(.01,2,50)\n",
    "\n",
    "ndf = pd.DataFrame({s*pbar[USE_GOOD]:np.log(nutrient_adequacy_ratio(xref/4,my_prices(pbar[USE_GOOD]*s,j=USE_GOOD),dbar))[UseNutrients] for s in scale}).T\n",
    "\n",
    "fig,ax = plt.subplots()\n",
    "ax.plot(ndf['Vitamin C'],ndf.index)\n",
    "ax.axhline(pbar[USE_GOOD])\n",
    "ax.axvline(0)\n",
    "\n",
    "ax.set_ylabel('Price')\n",
    "ax.set_xlabel('log nutrient adequacy ratio')"
   ]
  }
 ],
 "metadata": {
  "kernelspec": {
   "display_name": "Python 3 (ipykernel)",
   "language": "python",
   "name": "python3"
  },
  "language_info": {
   "codemirror_mode": {
    "name": "ipython",
    "version": 3
   },
   "file_extension": ".py",
   "mimetype": "text/x-python",
   "name": "python",
   "nbconvert_exporter": "python",
   "pygments_lexer": "ipython3",
   "version": "3.9.15"
  },
  "org": null
 },
 "nbformat": 4,
 "nbformat_minor": 1
}
