{
 "cells": [
  {
   "cell_type": "markdown",
   "metadata": {},
   "source": [
    "## Costs\n",
    "\n"
   ]
  },
  {
   "cell_type": "markdown",
   "metadata": {},
   "source": [
    "### Preface\n",
    "\n"
   ]
  },
  {
   "cell_type": "markdown",
   "metadata": {},
   "source": [
    "There are a few modules you may need to install (but avoid this if you can; you may need to restart your kernel afterwards):\n",
    "\n"
   ]
  },
  {
   "cell_type": "code",
   "execution_count": 1,
   "metadata": {},
   "outputs": [],
   "source": [
    "#!pip install -r requirements.txt"
   ]
  },
  {
   "cell_type": "markdown",
   "metadata": {},
   "source": [
    "### Data\n",
    "\n"
   ]
  },
  {
   "cell_type": "markdown",
   "metadata": {},
   "source": [
    "We&rsquo;ll get data from two places.  First, basic data, including a food\n",
    " conversion table and recommended daily intakes table can be found in\n",
    " a google spreadsheet.\n",
    "\n",
    "Here are addresses of google sheets for different dataframes for the\n",
    "case of Uganda:\n",
    "\n"
   ]
  },
  {
   "cell_type": "code",
   "execution_count": 3,
   "metadata": {},
   "outputs": [],
   "source": [
    "InputFiles = {'FCT':('13Ig5hZif-NSHtgkKRp_cEgKXk0lOsdUB2BAD6O_FnRo','FCT'),\n",
    "              'RDI':('13Ig5hZif-NSHtgkKRp_cEgKXk0lOsdUB2BAD6O_FnRo','RDI'),}"
   ]
  },
  {
   "cell_type": "markdown",
   "metadata": {},
   "source": [
    "#### Prices, FCT, RDI\n",
    "\n"
   ]
  },
  {
   "cell_type": "code",
   "execution_count": 4,
   "metadata": {},
   "outputs": [
    {
     "name": "stdout",
     "output_type": "stream",
     "text": [
      "Key available for students@eep153.iam.gserviceaccount.com.\n",
      "Key available for students@eep153.iam.gserviceaccount.com.\n"
     ]
    }
   ],
   "source": [
    "from eep153_tools.sheets import read_sheets\n",
    "import numpy as np\n",
    "import pandas as pd\n",
    "\n",
    "def get_clean_sheet(key,sheet=None):\n",
    "\n",
    "    df = read_sheets(key,sheet=sheet)\n",
    "    df.columns = [c.strip() for c in df.columns.tolist()]\n",
    "\n",
    "    df = df.loc[:,~df.columns.duplicated(keep='first')]\n",
    "\n",
    "    df = df.drop([col for col in df.columns if col.startswith('Unnamed')], axis=1)\n",
    "\n",
    "    df = df.loc[~df.index.duplicated(), :]\n",
    "\n",
    "    return df\n",
    "\n",
    "# TODO: delete when finalized\n",
    "# # Get prices\n",
    "# p = get_clean_sheet(InputFiles['Prices'][0],\n",
    "#                     sheet=InputFiles['Prices'][1])\n",
    "\n",
    "# if 'm' not in p.columns:  # Supply \"market\" indicator if missing\n",
    "#     p['m'] = 1\n",
    "\n",
    "# p = p.set_index(['t','m'])\n",
    "# p.columns.name = 'j'\n",
    "\n",
    "# p = p.apply(lambda x: pd.to_numeric(x,errors='coerce'))\n",
    "# p = p.replace(0,np.nan)\n",
    "\n",
    "fct = get_clean_sheet(InputFiles['FCT'][0],\n",
    "                    sheet=InputFiles['FCT'][1])\n",
    "\n",
    "fct = fct.set_index('j')\n",
    "fct.columns.name = 'n'\n",
    "\n",
    "fct = fct.apply(lambda x: pd.to_numeric(x,errors='coerce'))\n",
    "\n",
    "################## RDI, if available (consider using US) #####################\n",
    "rdi = get_clean_sheet(InputFiles['RDI'][0],\n",
    "                    sheet=InputFiles['RDI'][1])\n",
    "rdi = rdi.set_index('n')\n",
    "rdi.columns.name = 'k'"
   ]
  },
  {
   "cell_type": "code",
   "execution_count": 6,
   "metadata": {},
   "outputs": [
    {
     "data": {
      "text/html": [
       "<div>\n",
       "<style scoped>\n",
       "    .dataframe tbody tr th:only-of-type {\n",
       "        vertical-align: middle;\n",
       "    }\n",
       "\n",
       "    .dataframe tbody tr th {\n",
       "        vertical-align: top;\n",
       "    }\n",
       "\n",
       "    .dataframe thead th {\n",
       "        text-align: right;\n",
       "    }\n",
       "</style>\n",
       "<table border=\"1\" class=\"dataframe\">\n",
       "  <thead>\n",
       "    <tr style=\"text-align: right;\">\n",
       "      <th></th>\n",
       "      <th>p</th>\n",
       "    </tr>\n",
       "    <tr>\n",
       "      <th>i</th>\n",
       "      <th></th>\n",
       "    </tr>\n",
       "  </thead>\n",
       "  <tbody>\n",
       "    <tr>\n",
       "      <th>apple</th>\n",
       "      <td>11.111111</td>\n",
       "    </tr>\n",
       "    <tr>\n",
       "      <th>arhar (tur)</th>\n",
       "      <td>15.384615</td>\n",
       "    </tr>\n",
       "    <tr>\n",
       "      <th>baby food</th>\n",
       "      <td>3.846154</td>\n",
       "    </tr>\n",
       "    <tr>\n",
       "      <th>bajra &amp; products</th>\n",
       "      <td>83.333333</td>\n",
       "    </tr>\n",
       "    <tr>\n",
       "      <th>banana</th>\n",
       "      <td>0.483333</td>\n",
       "    </tr>\n",
       "    <tr>\n",
       "      <th>...</th>\n",
       "      <td>...</td>\n",
       "    </tr>\n",
       "    <tr>\n",
       "      <th>walnut</th>\n",
       "      <td>3.333333</td>\n",
       "    </tr>\n",
       "    <tr>\n",
       "      <th>watermelon</th>\n",
       "      <td>75.000000</td>\n",
       "    </tr>\n",
       "    <tr>\n",
       "      <th>wheat/atta - P.D.S.</th>\n",
       "      <td>151.515152</td>\n",
       "    </tr>\n",
       "    <tr>\n",
       "      <th>wheat/atta - other sources</th>\n",
       "      <td>62.500000</td>\n",
       "    </tr>\n",
       "    <tr>\n",
       "      <th>zarda,kimam,surti</th>\n",
       "      <td>2.857143</td>\n",
       "    </tr>\n",
       "  </tbody>\n",
       "</table>\n",
       "<p>164 rows × 1 columns</p>\n",
       "</div>"
      ],
      "text/plain": [
       "                                     p\n",
       "i                                     \n",
       "apple                        11.111111\n",
       "arhar (tur)                  15.384615\n",
       "baby food                     3.846154\n",
       "bajra & products             83.333333\n",
       "banana                        0.483333\n",
       "...                                ...\n",
       "walnut                        3.333333\n",
       "watermelon                   75.000000\n",
       "wheat/atta - P.D.S.         151.515152\n",
       "wheat/atta - other sources   62.500000\n",
       "zarda,kimam,surti             2.857143\n",
       "\n",
       "[164 rows x 1 columns]"
      ]
     },
     "execution_count": 6,
     "metadata": {},
     "output_type": "execute_result"
    }
   ],
   "source": [
    "import pyarrow.parquet as pq\n",
    "\n",
    "# Get prices \n",
    "p = pq.read_table(source='ap68_prices.parquet').to_pandas()\n",
    "p.reset_index(level='unit', drop=True, inplace=True)"
   ]
  },
  {
   "cell_type": "markdown",
   "metadata": {},
   "source": [
    "#### Pre-estimated Demand Systems\n",
    "\n"
   ]
  },
  {
   "cell_type": "markdown",
   "metadata": {},
   "source": [
    "An instance `r` of `cfe.Regression` can be made persistent with\n",
    " `r.to_pickle('my_result.pickle')`, which saves the instance &ldquo;on disk&rdquo;, and can be loaded using `cfe.regression.read_pickle`.  We use  this method below to load data and demand system previously estimated for Uganda:\n",
    "\n"
   ]
  },
  {
   "cell_type": "code",
   "execution_count": 5,
   "metadata": {},
   "outputs": [
    {
     "name": "stdout",
     "output_type": "stream",
     "text": [
      "Missing dependencies for OracleDemands.\n"
     ]
    }
   ],
   "source": [
    "import cfe.regression as rgsn\n",
    "\n",
    "r = rgsn.read_pickle('ap68.pickle')  # Assumes you've already set this up e.g., in Project 3"
   ]
  },
  {
   "cell_type": "markdown",
   "metadata": {},
   "source": [
    "### Ceteris Paribus\n",
    "\n"
   ]
  },
  {
   "cell_type": "markdown",
   "metadata": {},
   "source": [
    "We begin by setting up some benchmarks for prices and budgets, so\n",
    "    the things we don&rsquo;t want to change we can hold fixed.\n",
    "\n"
   ]
  },
  {
   "cell_type": "markdown",
   "metadata": {},
   "source": [
    "#### Reference Prices\n",
    "\n"
   ]
  },
  {
   "cell_type": "markdown",
   "metadata": {},
   "source": [
    "Choose reference prices.  Here we&rsquo;ll choose a particular year, and average prices across markets.  If you wanted to focus on particular market you&rsquo;d do this differently.\n",
    "\n"
   ]
  },
  {
   "cell_type": "code",
   "execution_count": 7,
   "metadata": {},
   "outputs": [
    {
     "data": {
      "text/plain": [
       "j\n",
       "banana                          0.483333\n",
       "bidi                            3.000000\n",
       "brinjal                        55.555556\n",
       "cabbage                        62.500000\n",
       "chillis (green)                25.000000\n",
       "cigarettes                      0.333333\n",
       "dry chillies                    8.333333\n",
       "eggs                            0.285714\n",
       "electricity                     0.333333\n",
       "firewood & chips              333.333333\n",
       "garlic                         12.500000\n",
       "ginger                         20.000000\n",
       "kerosene-other sources         33.333333\n",
       "lady's finger                  45.454545\n",
       "matches                         1.000000\n",
       "milk: liquid                   40.000000\n",
       "moong                          14.285714\n",
       "onion                          66.666667\n",
       "other spices                    5.000000\n",
       "potato                         83.333333\n",
       "rice - other sources           48.780488\n",
       "salt                           93.750000\n",
       "sugar - other sources          30.303030\n",
       "tea : cups                      0.219178\n",
       "tea : leaf                      5.000000\n",
       "tomato                         54.545455\n",
       "turmeric                        5.681818\n",
       "wheat/atta - other sources     62.500000\n",
       "Name: p, dtype: float64"
      ]
     },
     "execution_count": 7,
     "metadata": {},
     "output_type": "execute_result"
    }
   ],
   "source": [
    "# Reference prices chosen from a particular time; average across place.\n",
    "# These are prices per kilogram:\n",
    "pbar = p # Prof Ligon provided what are presumably already average prices \n",
    "pbar = pbar.loc[r.beta.index] # Only use prices for goods we can estimate\n",
    "pbar = pbar.iloc[:,0]"
   ]
  },
  {
   "cell_type": "markdown",
   "metadata": {},
   "source": [
    "#### Budgets\n",
    "\n"
   ]
  },
  {
   "cell_type": "markdown",
   "metadata": {},
   "source": [
    "Get food budget for all households, then find median budget:\n",
    "\n"
   ]
  },
  {
   "cell_type": "code",
   "execution_count": 8,
   "metadata": {},
   "outputs": [],
   "source": [
    "import numpy as np\n",
    "\n",
    "xhat = r.predicted_expenditures()\n",
    "\n",
    "# Total food expenditures per household\n",
    "xbar = xhat.groupby(['i','t','m']).sum()\n",
    "\n",
    "# Reference budget\n",
    "x0 = xbar.quantile(0.5)  # Household at 0.5 quantile is median"
   ]
  },
  {
   "cell_type": "markdown",
   "metadata": {},
   "source": [
    "#### Changing one price, holding others fixed\n",
    "\n"
   ]
  },
  {
   "cell_type": "markdown",
   "metadata": {},
   "source": [
    "Finally, define a function to change a single price in the vector $p$:\n",
    "\n"
   ]
  },
  {
   "cell_type": "code",
   "execution_count": 9,
   "metadata": {},
   "outputs": [],
   "source": [
    "def my_prices(p0,p=pbar,j='Millet'):\n",
    "    \"\"\"\n",
    "    Change price of jth good to p0, holding other prices fixed.\n",
    "    \"\"\"\n",
    "    p = p.copy()\n",
    "    p.loc[j] = p0\n",
    "    return p"
   ]
  },
  {
   "cell_type": "markdown",
   "metadata": {},
   "source": [
    "### Simple Policy Experiments: Changing Prices\n",
    "\n"
   ]
  },
  {
   "cell_type": "markdown",
   "metadata": {},
   "source": [
    "If price of a good increases/decreases, what&rsquo;s the cost to the\n",
    "household?  Ask a related question: If a price $p_1$ increases, how\n",
    "much *income* do we need to give to the household to make it just as\n",
    "well off as it was at the old prices?\n",
    "\n",
    "Summarize this as the  *compensating variation* associated with the\n",
    "price change.\n",
    "\n",
    "![img](./compensating_variation.png)\n",
    "\n",
    "Compensating Variation can also be measured as the (change in the)\n",
    "area under the **Hicksian** (or **compensated**) demand curve:\n",
    "\n",
    "![img](./compensating_variation_newexpenditure.png).\n",
    "\n"
   ]
  },
  {
   "cell_type": "markdown",
   "metadata": {},
   "source": [
    "#### Marshallian vs. Hicksian Demand Curves\n",
    "\n"
   ]
  },
  {
   "cell_type": "markdown",
   "metadata": {},
   "source": [
    "Let&rsquo;s look at Marshallian & Hicksian demands&#x2014;one way of thinking\n",
    "about the Hicksian (compensated) curves is that they  eliminate the\n",
    "income effect associated with changing prices.\n",
    "\n"
   ]
  },
  {
   "cell_type": "code",
   "execution_count": 10,
   "metadata": {},
   "outputs": [
    {
     "data": {
      "text/plain": [
       "<matplotlib.legend.Legend at 0x7f551add6fd0>"
      ]
     },
     "execution_count": 10,
     "metadata": {},
     "output_type": "execute_result"
    },
    {
     "data": {
      "image/png": "[encoded data removed]",
      "text/plain": [
       "<Figure size 640x480 with 1 Axes>"
      ]
     },
     "metadata": {},
     "output_type": "display_data"
    }
   ],
   "source": [
    "import matplotlib.pyplot as plt\n",
    "%matplotlib inline\n",
    "\n",
    "my_j = 'banana'  # Interesting [REGION] staple\n",
    "\n",
    "P = np.geomspace(.01,10,50)*pbar[my_j]\n",
    "\n",
    "# Utility of median household, given prices\n",
    "U0 = r.indirect_utility(x0,pbar)\n",
    "\n",
    "plt.plot([r.demands(x0,my_prices(p0,j=my_j))[my_j] for p0 in P],P)\n",
    "plt.plot([r.demands(U0,my_prices(p0,j=my_j),type=\"Hicksian\")[my_j] for p0 in P],P)\n",
    "plt.ylabel('Price')\n",
    "plt.xlabel(my_j)\n",
    "plt.legend((\"Marshallian\",\"Hicksian\"))"
   ]
  },
  {
   "cell_type": "markdown",
   "metadata": {},
   "source": [
    "#### Welfare measures\n",
    "\n"
   ]
  },
  {
   "cell_type": "code",
   "execution_count": 11,
   "metadata": {},
   "outputs": [],
   "source": [
    "def compensating_variation(U0,p0,p1):\n",
    "    x0 = r.expenditure(U0,p0)\n",
    "    x1 = r.expenditure(U0,p1)\n",
    "\n",
    "    return x1-x0\n",
    "\n",
    "def revenue(U0,p0,p1,type='Marshallian'):\n",
    "    \"\"\"(Un)Compensated revenue from taxes changing vector of prices from p0 to p1.\n",
    "\n",
    "    Note that this is only for *demand* side (i.e., if supply perfectly elastic).\n",
    "    \"\"\"\n",
    "    \n",
    "    dp = p1 - p0 # Change in prices\n",
    "\n",
    "    c = r.demands(U0,p1,type=type)\n",
    "\n",
    "    dp,c = dp.align(c,join='inner')\n",
    "\n",
    "    return dp.T@c\n",
    "\n",
    "\n",
    "def deadweight_loss(U0,p0,p1):\n",
    "    \"\"\"\n",
    "    Deadweight loss of tax/subsidy scheme creating wedge in prices from p0 to p1.\n",
    "\n",
    "    Note that this is only for *demand* side (i.e., if supply perfectly elastic).\n",
    "    \"\"\"\n",
    "    cv = compensating_variation(U0,p0,p1)\n",
    "\n",
    "    return cv - revenue(U0,p0,p1,type='Hicksian')"
   ]
  },
  {
   "cell_type": "markdown",
   "metadata": {},
   "source": [
    "#### Price Changes, Revenue, and Compensating Variation\n",
    "\n"
   ]
  },
  {
   "cell_type": "markdown",
   "metadata": {},
   "source": [
    "Examine effects of price changes on revenue (if price change due to a\n",
    "tax or subsidy) and compensating variation.\n",
    "\n"
   ]
  },
  {
   "cell_type": "code",
   "execution_count": 12,
   "metadata": {},
   "outputs": [
    {
     "data": {
      "text/plain": [
       "<matplotlib.lines.Line2D at 0x7f55181facd0>"
      ]
     },
     "execution_count": 12,
     "metadata": {},
     "output_type": "execute_result"
    },
    {
     "data": {
      "image/png": "[encoded data removed]",
      "text/plain": [
       "<Figure size 640x480 with 1 Axes>"
      ]
     },
     "metadata": {},
     "output_type": "display_data"
    }
   ],
   "source": [
    "fig, ax1 = plt.subplots()\n",
    "\n",
    "ax1.plot(P,[compensating_variation(U0,pbar,my_prices(p0,j=my_j)) for p0 in P])\n",
    "ax1.set_xlabel(f\"Price of {my_j}\")\n",
    "ax1.set_ylabel(\"Compensating Variation\")\n",
    "\n",
    "ax1.plot(P,[revenue(U0,pbar,my_prices(p0,j=my_j),type='Hicksian') for p0 in P],'k')\n",
    "ax1.legend(('Compensating Variation','Revenue'))\n",
    "ax1.axhline(0)\n",
    "ax1.axvline(pbar.loc[my_j])"
   ]
  },
  {
   "cell_type": "markdown",
   "metadata": {},
   "source": [
    "#### Deadweight Loss\n",
    "\n"
   ]
  },
  {
   "cell_type": "markdown",
   "metadata": {},
   "source": [
    "Differences between revenue and compensating variation is deadweight-loss:\n",
    "\n"
   ]
  },
  {
   "cell_type": "code",
   "execution_count": 13,
   "metadata": {},
   "outputs": [
    {
     "data": {
      "text/plain": [
       "Text(0, 0.5, 'Deadweight Loss')"
      ]
     },
     "execution_count": 13,
     "metadata": {},
     "output_type": "execute_result"
    },
    {
     "data": {
      "image/png": "[encoded data removed]",
      "text/plain": [
       "<Figure size 640x480 with 1 Axes>"
      ]
     },
     "metadata": {},
     "output_type": "display_data"
    }
   ],
   "source": [
    "fig, ax1 = plt.subplots()\n",
    "\n",
    "ax1.plot(P,[deadweight_loss(U0,pbar,my_prices(p0,j=my_j)) for p0 in P])\n",
    "ax1.set_xlabel(\"Price of %s\" % my_j)\n",
    "ax1.set_ylabel(\"Deadweight Loss\")"
   ]
  },
  {
   "cell_type": "code",
   "execution_count": null,
   "metadata": {},
   "outputs": [],
   "source": []
  }
 ],
 "metadata": {
  "kernelspec": {
   "display_name": "Python 3 (ipykernel)",
   "language": "python",
   "name": "python3"
  },
  "language_info": {
   "codemirror_mode": {
    "name": "ipython",
    "version": 3
   },
   "file_extension": ".py",
   "mimetype": "text/x-python",
   "name": "python",
   "nbconvert_exporter": "python",
   "pygments_lexer": "ipython3",
   "version": "3.9.15"
  },
  "org": null
 },
 "nbformat": 4,
 "nbformat_minor": 1
}
